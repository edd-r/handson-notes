{
 "cells": [
  {
   "cell_type": "markdown",
   "metadata": {},
   "source": [
    "# Voting classifiers\n",
    "\n",
    "Even if all classifiers in an ensemble are weak, voting can improve strength drastically provided a sufficent number of weak, diverse classifiers. \n",
    "\n",
    "### Hard voting\n",
    "Simply the majority vote/modal response.\n",
    "This works by the law of large numbers. If there is a slightly greater chance an observation is going to be classified correctly as opposed to incorrectly. It should be classifed correctly more times than incorrectly in the ensemble. So by voting, we should be able to classify it correctly.\n",
    "\n",
    "The best way to do this is to use very different algorithms to train these, as they will hopefully make different errors. \n",
    "\n",
    "### soft voting\n",
    "Basically averaging proabilities\n",
    "Most classifiers can output probabilities, but not all e.g. SVC. If we use these in the ensemble, we can average the probabilities out across classifiers, giving emenece to classifiers that are more certain of the correct class.  \n",
    " \n"
   ]
  }
 ],
 "metadata": {
  "kernelspec": {
   "display_name": "handson-notes",
   "language": "python",
   "name": "handson-notes"
  },
  "language_info": {
   "codemirror_mode": {
    "name": "ipython",
    "version": 3
   },
   "file_extension": ".py",
   "mimetype": "text/x-python",
   "name": "python",
   "nbconvert_exporter": "python",
   "pygments_lexer": "ipython3",
   "version": "3.6.8"
  }
 },
 "nbformat": 4,
 "nbformat_minor": 2
}
