{
 "cells": [
  {
   "cell_type": "markdown",
   "metadata": {},
   "source": [
    "# explaining SVMs\n",
    "\n",
    "Recap:\n",
    "\n",
    "- $\\theta$ model params, so...\n",
    "    - $\\theta_0$ bias term\n",
    "    - $\\theta_1 ... \\theta_n$ model weights\n",
    "    \n",
    "but here...\n",
    "\n",
    "- $b$ bias\n",
    "- $w$ weights"
   ]
  },
  {
   "cell_type": "markdown",
   "metadata": {},
   "source": [
    "## SVCs \n",
    "\n",
    "### decision function\n",
    "\n",
    "For svcs the decision function is\n",
    "\n",
    "$$\\hat{y} = \\begin{cases} 0 \\text{ if } w^Tx+b < 0\\\\\n",
    "                          1 \\text{ if } w^Tx+b >= 0\\end{cases}$$\n",
    "                          \n",
    "Training a svc involves setting $w$ and $b$ to maximise the 'street' size to avoid margin violations(hard) or limit violations(soft)\n",
    "\n",
    "Given the weight vector $\\| w \\|$, as this gives us the slope of the decision boundary we want this to be as small as possible to widen the margins. "
   ]
  },
  {
   "cell_type": "code",
   "execution_count": null,
   "metadata": {},
   "outputs": [],
   "source": []
  }
 ],
 "metadata": {
  "kernelspec": {
   "display_name": "ml_projects-PtpjDyvs",
   "language": "python",
   "name": "ml_projects-ptpjdyvs"
  },
  "language_info": {
   "codemirror_mode": {
    "name": "ipython",
    "version": 3
   },
   "file_extension": ".py",
   "mimetype": "text/x-python",
   "name": "python",
   "nbconvert_exporter": "python",
   "pygments_lexer": "ipython3",
   "version": "3.6.4"
  }
 },
 "nbformat": 4,
 "nbformat_minor": 2
}
