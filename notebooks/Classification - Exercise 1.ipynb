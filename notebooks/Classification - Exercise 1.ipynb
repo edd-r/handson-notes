{
 "cells": [
  {
   "cell_type": "markdown",
   "metadata": {},
   "source": [
    "# Goal: build a classifier that achieves over 97% accuracy for the MNIST Dataset \n",
    "\n",
    "Load the data"
   ]
  },
  {
   "cell_type": "code",
   "execution_count": 2,
   "metadata": {},
   "outputs": [
    {
     "name": "stderr",
     "output_type": "stream",
     "text": [
      "/home/edd/.local/share/virtualenvs/ml_projects-PtpjDyvs/lib/python3.6/site-packages/sklearn/cross_validation.py:41: DeprecationWarning: This module was deprecated in version 0.18 in favor of the model_selection module into which all the refactored classes and functions are moved. Also note that the interface of the new CV iterators are different from that of this module. This module will be removed in 0.20.\n",
      "  \"This module will be removed in 0.20.\", DeprecationWarning)\n",
      "/home/edd/.local/share/virtualenvs/ml_projects-PtpjDyvs/lib/python3.6/site-packages/sklearn/grid_search.py:42: DeprecationWarning: This module was deprecated in version 0.18 in favor of the model_selection module into which all the refactored classes and functions are moved. This module will be removed in 0.20.\n",
      "  DeprecationWarning)\n"
     ]
    }
   ],
   "source": [
    "import os,sys\n",
    "\n",
    "#stats\n",
    "import numpy as np\n",
    "\n",
    "from sklearn.model_selection import train_test_split, StratifiedKFold \\\n",
    "                                    , cross_val_score ,cross_val_predict\n",
    "from sklearn.base import clone\n",
    "from sklearn.linear_model import SGDClassifier\n",
    "from sklearn.metrics import confusion_matrix, precision_score, recall_score \\\n",
    "                            ,precision_recall_curve, roc_curve, accuracy_score\n",
    "from sklearn.pipeline import Pipeline\n",
    "from sklearn.grid_search import GridSearchCV, RandomizedSearchCV\n",
    "\n",
    "from sklearn.ensemble import RandomForestClassifier\n",
    "from sklearn.svm import SVC, LinearSVC\n",
    "from sklearn.neighbors import KNeighborsClassifier, RadiusNeighborsClassifier\n",
    "\n",
    "# data\n",
    "import sklearn.datasets\n",
    "from sklearn.datasets import fetch_mldata #mldata.org is down, don't use\n",
    "from tensorflow.examples.tutorials.mnist import input_data\n",
    "\n",
    "#graphs \n",
    "import matplotlib\n",
    "import matplotlib.pyplot as plt\n",
    "\n",
    "#some variables\n",
    "seed = 42 #random seed\n",
    "np.random.seed(seed)\n",
    "\n",
    "#magic\n",
    "%matplotlib  inline"
   ]
  },
  {
   "cell_type": "code",
   "execution_count": 3,
   "metadata": {},
   "outputs": [
    {
     "name": "stdout",
     "output_type": "stream",
     "text": [
      "WARNING:tensorflow:From <ipython-input-3-915f0fe3e8eb>:3: read_data_sets (from tensorflow.contrib.learn.python.learn.datasets.mnist) is deprecated and will be removed in a future version.\n",
      "Instructions for updating:\n",
      "Please use alternatives such as official/mnist/dataset.py from tensorflow/models.\n",
      "WARNING:tensorflow:From /home/edd/.local/share/virtualenvs/ml_projects-PtpjDyvs/lib/python3.6/site-packages/tensorflow/contrib/learn/python/learn/datasets/mnist.py:260: maybe_download (from tensorflow.contrib.learn.python.learn.datasets.base) is deprecated and will be removed in a future version.\n",
      "Instructions for updating:\n",
      "Please write your own downloading logic.\n",
      "WARNING:tensorflow:From /home/edd/.local/share/virtualenvs/ml_projects-PtpjDyvs/lib/python3.6/site-packages/tensorflow/contrib/learn/python/learn/datasets/mnist.py:262: extract_images (from tensorflow.contrib.learn.python.learn.datasets.mnist) is deprecated and will be removed in a future version.\n",
      "Instructions for updating:\n",
      "Please use tf.data to implement this functionality.\n",
      "Extracting MNIST_data/train-images-idx3-ubyte.gz\n",
      "WARNING:tensorflow:From /home/edd/.local/share/virtualenvs/ml_projects-PtpjDyvs/lib/python3.6/site-packages/tensorflow/contrib/learn/python/learn/datasets/mnist.py:267: extract_labels (from tensorflow.contrib.learn.python.learn.datasets.mnist) is deprecated and will be removed in a future version.\n",
      "Instructions for updating:\n",
      "Please use tf.data to implement this functionality.\n",
      "Extracting MNIST_data/train-labels-idx1-ubyte.gz\n",
      "Extracting MNIST_data/t10k-images-idx3-ubyte.gz\n",
      "Extracting MNIST_data/t10k-labels-idx1-ubyte.gz\n",
      "WARNING:tensorflow:From /home/edd/.local/share/virtualenvs/ml_projects-PtpjDyvs/lib/python3.6/site-packages/tensorflow/contrib/learn/python/learn/datasets/mnist.py:290: DataSet.__init__ (from tensorflow.contrib.learn.python.learn.datasets.mnist) is deprecated and will be removed in a future version.\n",
      "Instructions for updating:\n",
      "Please use alternatives such as official/mnist/dataset.py from tensorflow/models.\n",
      "images shape is (65000, 784) \n",
      "labels shape is (65000,)\n"
     ]
    }
   ],
   "source": [
    "# doesn't work :(\n",
    "# mnist = fetch_mldata(\"MNIST original\")\n",
    "mnist = input_data.read_data_sets('MNIST_data', one_hot=False)\n",
    "\n",
    "X_train = mnist.train.images\n",
    "y_train = mnist.train.labels\n",
    "\n",
    "X_test = mnist.test.images\n",
    "y_test = mnist.test.labels\n",
    "\n",
    "X = np.concatenate([X_train, X_test])\n",
    "y = np.concatenate([y_train, y_test])\n",
    "\n",
    "print(\"images shape is {} \\nlabels shape is {}\".format(X.shape,\n",
    "                                                       y.shape\n",
    "                                                      ))\n",
    "\n",
    "#shuffle data and create test and train sets\n",
    "shuffle_index = np.random.permutation(X.shape[0])\n",
    "\n",
    "X = X[shuffle_index]\n",
    "y = y[shuffle_index]\n",
    "\n",
    "X_train, X_test, y_train, y_test = train_test_split(X,\n",
    "                                                    y,\n",
    "                                                    test_size = 0.3,\n",
    "                                                    random_state = seed\n",
    "                                                   )"
   ]
  },
  {
   "cell_type": "markdown",
   "metadata": {},
   "source": [
    "Lets start withe the SGD classifier to get a benchmark"
   ]
  },
  {
   "cell_type": "code",
   "execution_count": 17,
   "metadata": {},
   "outputs": [],
   "source": [
    "sgd_clf =  SGDClassifier(random_state = seed, max_iter = 100)\n",
    "scores = cross_val_score(sgd_clf, X, y, cv = 3, scoring = \"accuracy\")"
   ]
  },
  {
   "cell_type": "code",
   "execution_count": 20,
   "metadata": {},
   "outputs": [
    {
     "name": "stdout",
     "output_type": "stream",
     "text": [
      "Stochastic Gradient Descent accuracy scores: [0.912 0.91  0.919]\n",
      "Stochastic Gradient Descent accuracy mean: 0.913\n",
      "Stochastic Gradient Descent accuracy devation 0.004\n"
     ]
    }
   ],
   "source": [
    "print(\"Stochastic Gradient Descent accuracy scores: {}\\n\\\n",
    "Stochastic Gradient Descent accuracy mean: {}\\n\\\n",
    "Stochastic Gradient Descent accuracy devation: {}\".format(\n",
    "                np.round(scores, decimals = 3),\n",
    "                np.round(np.mean(scores), decimals = 3),\n",
    "                np.round(np.std(scores), decimals = 3)\n",
    "    ))"
   ]
  },
  {
   "cell_type": "markdown",
   "metadata": {},
   "source": [
    "Ok, so an accuracy of 91.3%, some distance from the target of 97%.\n",
    "\n",
    "We can try to optimise some of its parameters with Gridsearch"
   ]
  },
  {
   "cell_type": "code",
   "execution_count": 39,
   "metadata": {},
   "outputs": [
    {
     "name": "stdout",
     "output_type": "stream",
     "text": [
      "Fitting 3 folds for each of 84 candidates, totalling 252 fits\n",
      "[CV] alpha=1e-06, l1_ratio=0, loss=log, penalty=l1 ...................\n",
      "[CV] alpha=1e-06, l1_ratio=0, loss=log, penalty=l1 ...................\n",
      "[CV] alpha=1e-06, l1_ratio=0, loss=log, penalty=l1 ...................\n",
      "[CV] alpha=1e-06, l1_ratio=0, loss=log, penalty=l2 ...................\n",
      "[CV]  alpha=1e-06, l1_ratio=0, loss=log, penalty=l2, score=0.859345 - 1.5min\n",
      "[CV] alpha=1e-06, l1_ratio=0, loss=log, penalty=l2 ...................\n",
      "[CV]  alpha=1e-06, l1_ratio=0, loss=log, penalty=l2, score=0.874412 - 1.4min\n",
      "[CV] alpha=1e-06, l1_ratio=0, loss=log, penalty=l2 ...................\n",
      "[CV]  alpha=1e-06, l1_ratio=0, loss=log, penalty=l1, score=0.852238 - 3.3min\n",
      "[CV] alpha=1e-06, l1_ratio=0, loss=log, penalty=elasticnet ...........\n",
      "[CV]  alpha=1e-06, l1_ratio=0, loss=log, penalty=l1, score=0.878750 - 3.3min\n",
      "[CV] alpha=1e-06, l1_ratio=0, loss=log, penalty=elasticnet ...........\n",
      "[CV]  alpha=1e-06, l1_ratio=0, loss=log, penalty=l1, score=0.885017 - 3.3min\n",
      "[CV] alpha=1e-06, l1_ratio=0, loss=log, penalty=elasticnet ...........\n"
     ]
    },
    {
     "name": "stderr",
     "output_type": "stream",
     "text": [
      "[Parallel(n_jobs=-1)]: Done   5 tasks      | elapsed:  3.4min\n"
     ]
    },
    {
     "name": "stdout",
     "output_type": "stream",
     "text": [
      "[CV]  alpha=1e-06, l1_ratio=0, loss=log, penalty=l2, score=0.880308 - 1.5min\n",
      "[CV] alpha=1e-06, l1_ratio=0.01, loss=log, penalty=l1 ................\n",
      "[CV]  alpha=1e-06, l1_ratio=0, loss=log, penalty=elasticnet, score=0.859345 - 3.5min\n",
      "[CV] alpha=1e-06, l1_ratio=0.01, loss=log, penalty=l1 ................\n",
      "[CV]  alpha=1e-06, l1_ratio=0, loss=log, penalty=elasticnet, score=0.874412 - 3.5min\n",
      "[CV] alpha=1e-06, l1_ratio=0.01, loss=log, penalty=l1 ................\n",
      "[CV]  alpha=1e-06, l1_ratio=0, loss=log, penalty=elasticnet, score=0.880308 - 3.5min\n",
      "[CV] alpha=1e-06, l1_ratio=0.01, loss=log, penalty=l2 ................\n",
      "[CV]  alpha=1e-06, l1_ratio=0.01, loss=log, penalty=l1, score=0.852238 - 3.2min\n",
      "[CV] alpha=1e-06, l1_ratio=0.01, loss=log, penalty=l2 ................\n"
     ]
    },
    {
     "name": "stderr",
     "output_type": "stream",
     "text": [
      "[Parallel(n_jobs=-1)]: Done  10 tasks      | elapsed:  7.6min\n"
     ]
    },
    {
     "name": "stdout",
     "output_type": "stream",
     "text": [
      "[CV]  alpha=1e-06, l1_ratio=0.01, loss=log, penalty=l2, score=0.859345 - 1.5min\n",
      "[CV] alpha=1e-06, l1_ratio=0.01, loss=log, penalty=l2 ................\n",
      "[CV]  alpha=1e-06, l1_ratio=0.01, loss=log, penalty=l2, score=0.874412 - 1.5min\n",
      "[CV] alpha=1e-06, l1_ratio=0.01, loss=log, penalty=elasticnet ........\n",
      "[CV]  alpha=1e-06, l1_ratio=0.01, loss=log, penalty=l2, score=0.880308 - 1.5min\n",
      "[CV] alpha=1e-06, l1_ratio=0.01, loss=log, penalty=elasticnet ........\n",
      "[CV]  alpha=1e-06, l1_ratio=0.01, loss=log, penalty=l1, score=0.878750 - 3.3min\n",
      "[CV] alpha=1e-06, l1_ratio=0.01, loss=log, penalty=elasticnet ........\n",
      "[CV]  alpha=1e-06, l1_ratio=0.01, loss=log, penalty=l1, score=0.885017 - 3.3min\n",
      "[CV] alpha=1e-06, l1_ratio=0.1, loss=log, penalty=l1 .................\n",
      "[CV]  alpha=1e-06, l1_ratio=0.01, loss=log, penalty=elasticnet, score=0.873096 - 3.8min\n",
      "[CV] alpha=1e-06, l1_ratio=0.1, loss=log, penalty=l1 .................\n",
      "[CV]  alpha=1e-06, l1_ratio=0.1, loss=log, penalty=l1, score=0.852238 - 3.2min\n",
      "[CV] alpha=1e-06, l1_ratio=0.1, loss=log, penalty=l1 .................\n"
     ]
    },
    {
     "name": "stderr",
     "output_type": "stream",
     "text": [
      "[Parallel(n_jobs=-1)]: Done  17 tasks      | elapsed: 13.3min\n"
     ]
    },
    {
     "name": "stdout",
     "output_type": "stream",
     "text": [
      "[CV]  alpha=1e-06, l1_ratio=0.01, loss=log, penalty=elasticnet, score=0.878104 - 3.9min\n",
      "[CV] alpha=1e-06, l1_ratio=0.1, loss=log, penalty=l2 .................\n",
      "[CV]  alpha=1e-06, l1_ratio=0.01, loss=log, penalty=elasticnet, score=0.880216 - 3.8min\n",
      "[CV] alpha=1e-06, l1_ratio=0.1, loss=log, penalty=l2 .................\n",
      "[CV]  alpha=1e-06, l1_ratio=0.1, loss=log, penalty=l2, score=0.859345 - 1.5min\n",
      "[CV] alpha=1e-06, l1_ratio=0.1, loss=log, penalty=l2 .................\n",
      "[CV]  alpha=1e-06, l1_ratio=0.1, loss=log, penalty=l2, score=0.874412 - 1.5min\n",
      "[CV] alpha=1e-06, l1_ratio=0.1, loss=log, penalty=elasticnet .........\n",
      "[CV]  alpha=1e-06, l1_ratio=0.1, loss=log, penalty=l1, score=0.878750 - 3.3min\n",
      "[CV] alpha=1e-06, l1_ratio=0.1, loss=log, penalty=elasticnet .........\n",
      "[CV]  alpha=1e-06, l1_ratio=0.1, loss=log, penalty=l2, score=0.880308 - 1.5min\n",
      "[CV] alpha=1e-06, l1_ratio=0.1, loss=log, penalty=elasticnet .........\n",
      "[CV]  alpha=1e-06, l1_ratio=0.1, loss=log, penalty=l1, score=0.885017 - 3.3min\n",
      "[CV] alpha=1e-06, l1_ratio=1, loss=log, penalty=l1 ...................\n"
     ]
    },
    {
     "name": "stderr",
     "output_type": "stream",
     "text": [
      "[Parallel(n_jobs=-1)]: Done  24 tasks      | elapsed: 16.7min\n"
     ]
    },
    {
     "name": "stdout",
     "output_type": "stream",
     "text": [
      "[CV]  alpha=1e-06, l1_ratio=0.1, loss=log, penalty=elasticnet, score=0.859022 - 3.9min\n",
      "[CV] alpha=1e-06, l1_ratio=1, loss=log, penalty=l1 ...................\n",
      "[CV]  alpha=1e-06, l1_ratio=1, loss=log, penalty=l1, score=0.852238 - 3.2min\n",
      "[CV] alpha=1e-06, l1_ratio=1, loss=log, penalty=l1 ...................\n",
      "[CV]  alpha=1e-06, l1_ratio=0.1, loss=log, penalty=elasticnet, score=0.879719 - 3.8min\n",
      "[CV] alpha=1e-06, l1_ratio=1, loss=log, penalty=l2 ...................\n",
      "[CV]  alpha=1e-06, l1_ratio=0.1, loss=log, penalty=elasticnet, score=0.876246 - 3.8min\n",
      "[CV] alpha=1e-06, l1_ratio=1, loss=log, penalty=l2 ...................\n",
      "[CV]  alpha=1e-06, l1_ratio=1, loss=log, penalty=l2, score=0.859345 - 1.5min\n",
      "[CV] alpha=1e-06, l1_ratio=1, loss=log, penalty=l2 ...................\n",
      "[CV]  alpha=1e-06, l1_ratio=1, loss=log, penalty=l2, score=0.874412 - 1.5min\n",
      "[CV] alpha=1e-06, l1_ratio=1, loss=log, penalty=elasticnet ...........\n",
      "[CV]  alpha=1e-06, l1_ratio=1, loss=log, penalty=l1, score=0.878750 - 3.3min\n",
      "[CV] alpha=1e-06, l1_ratio=1, loss=log, penalty=elasticnet ...........\n",
      "[CV]  alpha=1e-06, l1_ratio=1, loss=log, penalty=l2, score=0.880308 - 1.5min\n",
      "[CV] alpha=1e-06, l1_ratio=1, loss=log, penalty=elasticnet ...........\n",
      "[CV]  alpha=1e-06, l1_ratio=1, loss=log, penalty=l1, score=0.885017 - 3.4min\n",
      "[CV] alpha=1e-05, l1_ratio=0, loss=log, penalty=l1 ...................\n"
     ]
    },
    {
     "name": "stderr",
     "output_type": "stream",
     "text": [
      "[Parallel(n_jobs=-1)]: Done  33 tasks      | elapsed: 23.2min\n"
     ]
    },
    {
     "name": "stdout",
     "output_type": "stream",
     "text": [
      "[CV]  alpha=1e-06, l1_ratio=1, loss=log, penalty=elasticnet, score=0.852238 - 3.2min\n",
      "[CV] alpha=1e-05, l1_ratio=0, loss=log, penalty=l1 ...................\n",
      "[CV]  alpha=1e-06, l1_ratio=1, loss=log, penalty=elasticnet, score=0.878750 - 3.2min\n",
      "[CV] alpha=1e-05, l1_ratio=0, loss=log, penalty=l1 ...................\n",
      "[CV]  alpha=1e-06, l1_ratio=1, loss=log, penalty=elasticnet, score=0.885017 - 3.3min\n",
      "[CV] alpha=1e-05, l1_ratio=0, loss=log, penalty=l2 ...................\n",
      "[CV]  alpha=1e-05, l1_ratio=0, loss=log, penalty=l1, score=0.891278 - 3.6min\n",
      "[CV] alpha=1e-05, l1_ratio=0, loss=log, penalty=l2 ...................\n",
      "[CV]  alpha=1e-05, l1_ratio=0, loss=log, penalty=l2, score=0.900600 - 1.5min\n",
      "[CV] alpha=1e-05, l1_ratio=0, loss=log, penalty=l2 ...................\n",
      "[CV]  alpha=1e-05, l1_ratio=0, loss=log, penalty=l2, score=0.905474 - 1.5min\n",
      "[CV] alpha=1e-05, l1_ratio=0, loss=log, penalty=elasticnet ...........\n",
      "[CV]  alpha=1e-05, l1_ratio=0, loss=log, penalty=l1, score=0.892643 - 3.5min\n",
      "[CV] alpha=1e-05, l1_ratio=0, loss=log, penalty=elasticnet ...........\n",
      "[CV]  alpha=1e-05, l1_ratio=0, loss=log, penalty=l2, score=0.912482 - 1.5min\n",
      "[CV] alpha=1e-05, l1_ratio=0, loss=log, penalty=elasticnet ...........\n",
      "[CV]  alpha=1e-05, l1_ratio=0, loss=log, penalty=l1, score=0.900988 - 3.6min\n",
      "[CV] alpha=1e-05, l1_ratio=0.01, loss=log, penalty=l1 ................\n"
     ]
    },
    {
     "name": "stderr",
     "output_type": "stream",
     "text": [
      "[Parallel(n_jobs=-1)]: Done  42 tasks      | elapsed: 29.4min\n"
     ]
    },
    {
     "name": "stdout",
     "output_type": "stream",
     "text": [
      "[CV]  alpha=1e-05, l1_ratio=0, loss=log, penalty=elasticnet, score=0.900600 - 3.5min\n",
      "[CV] alpha=1e-05, l1_ratio=0.01, loss=log, penalty=l1 ................\n",
      "[CV]  alpha=1e-05, l1_ratio=0, loss=log, penalty=elasticnet, score=0.905474 - 3.5min\n",
      "[CV] alpha=1e-05, l1_ratio=0.01, loss=log, penalty=l1 ................\n",
      "[CV]  alpha=1e-05, l1_ratio=0, loss=log, penalty=elasticnet, score=0.912482 - 3.5min\n",
      "[CV] alpha=1e-05, l1_ratio=0.01, loss=log, penalty=l2 ................\n",
      "[CV]  alpha=1e-05, l1_ratio=0.01, loss=log, penalty=l1, score=0.891278 - 3.5min\n",
      "[CV] alpha=1e-05, l1_ratio=0.01, loss=log, penalty=l2 ................\n",
      "[CV]  alpha=1e-05, l1_ratio=0.01, loss=log, penalty=l2, score=0.900600 - 1.5min\n",
      "[CV] alpha=1e-05, l1_ratio=0.01, loss=log, penalty=l2 ................\n",
      "[CV]  alpha=1e-05, l1_ratio=0.01, loss=log, penalty=l2, score=0.905474 - 1.6min\n",
      "[CV] alpha=1e-05, l1_ratio=0.01, loss=log, penalty=elasticnet ........\n",
      "[CV]  alpha=1e-05, l1_ratio=0.01, loss=log, penalty=l1, score=0.892643 - 3.6min\n",
      "[CV] alpha=1e-05, l1_ratio=0.01, loss=log, penalty=elasticnet ........\n",
      "[CV]  alpha=1e-05, l1_ratio=0.01, loss=log, penalty=l1, score=0.900988 - 3.5min\n",
      "[CV] alpha=1e-05, l1_ratio=0.01, loss=log, penalty=elasticnet ........\n",
      "[CV]  alpha=1e-05, l1_ratio=0.01, loss=log, penalty=l2, score=0.912482 - 1.5min\n",
      "[CV] alpha=1e-05, l1_ratio=0.1, loss=log, penalty=l1 .................\n",
      "[CV]  alpha=1e-05, l1_ratio=0.01, loss=log, penalty=elasticnet, score=0.900923 - 4.0min\n",
      "[CV] alpha=1e-05, l1_ratio=0.1, loss=log, penalty=l1 .................\n",
      "[CV]  alpha=1e-05, l1_ratio=0.01, loss=log, penalty=elasticnet, score=0.905797 - 3.8min\n",
      "[CV] alpha=1e-05, l1_ratio=0.1, loss=log, penalty=l1 .................\n"
     ]
    },
    {
     "name": "stderr",
     "output_type": "stream",
     "text": [
      "[Parallel(n_jobs=-1)]: Done  53 tasks      | elapsed: 39.3min\n"
     ]
    },
    {
     "name": "stdout",
     "output_type": "stream",
     "text": [
      "[CV]  alpha=1e-05, l1_ratio=0.1, loss=log, penalty=l1, score=0.891278 - 3.6min\n",
      "[CV] alpha=1e-05, l1_ratio=0.1, loss=log, penalty=l2 .................\n",
      "[CV]  alpha=1e-05, l1_ratio=0.01, loss=log, penalty=elasticnet, score=0.912666 - 3.9min\n",
      "[CV] alpha=1e-05, l1_ratio=0.1, loss=log, penalty=l2 .................\n",
      "[CV]  alpha=1e-05, l1_ratio=0.1, loss=log, penalty=l2, score=0.900600 - 1.5min\n",
      "[CV] alpha=1e-05, l1_ratio=0.1, loss=log, penalty=l2 .................\n",
      "[CV]  alpha=1e-05, l1_ratio=0.1, loss=log, penalty=l2, score=0.905474 - 1.5min\n",
      "[CV] alpha=1e-05, l1_ratio=0.1, loss=log, penalty=elasticnet .........\n",
      "[CV]  alpha=1e-05, l1_ratio=0.1, loss=log, penalty=l1, score=0.892643 - 3.6min\n",
      "[CV] alpha=1e-05, l1_ratio=0.1, loss=log, penalty=elasticnet .........\n",
      "[CV]  alpha=1e-05, l1_ratio=0.1, loss=log, penalty=l2, score=0.912482 - 1.5min\n",
      "[CV] alpha=1e-05, l1_ratio=0.1, loss=log, penalty=elasticnet .........\n",
      "[CV]  alpha=1e-05, l1_ratio=0.1, loss=log, penalty=l1, score=0.900988 - 3.6min\n",
      "[CV] alpha=1e-05, l1_ratio=1, loss=log, penalty=l1 ...................\n",
      "[CV]  alpha=1e-05, l1_ratio=0.1, loss=log, penalty=elasticnet, score=0.902030 - 3.8min\n",
      "[CV] alpha=1e-05, l1_ratio=1, loss=log, penalty=l1 ...................\n",
      "[CV]  alpha=1e-05, l1_ratio=0.1, loss=log, penalty=elasticnet, score=0.905751 - 3.8min\n",
      "[CV] alpha=1e-05, l1_ratio=1, loss=log, penalty=l1 ...................\n",
      "[CV]  alpha=1e-05, l1_ratio=0.1, loss=log, penalty=elasticnet, score=0.912851 - 3.8min\n",
      "[CV] alpha=1e-05, l1_ratio=1, loss=log, penalty=l2 ...................\n",
      "[CV]  alpha=1e-05, l1_ratio=1, loss=log, penalty=l1, score=0.891278 - 3.6min\n",
      "[CV] alpha=1e-05, l1_ratio=1, loss=log, penalty=l2 ...................\n"
     ]
    },
    {
     "name": "stderr",
     "output_type": "stream",
     "text": [
      "[Parallel(n_jobs=-1)]: Done  64 tasks      | elapsed: 46.4min\n"
     ]
    },
    {
     "name": "stdout",
     "output_type": "stream",
     "text": [
      "[CV]  alpha=1e-05, l1_ratio=1, loss=log, penalty=l2, score=0.900600 - 1.5min\n",
      "[CV] alpha=1e-05, l1_ratio=1, loss=log, penalty=l2 ...................\n",
      "[CV]  alpha=1e-05, l1_ratio=1, loss=log, penalty=l2, score=0.905474 - 1.5min\n",
      "[CV] alpha=1e-05, l1_ratio=1, loss=log, penalty=elasticnet ...........\n",
      "[CV]  alpha=1e-05, l1_ratio=1, loss=log, penalty=l1, score=0.892643 - 3.6min\n",
      "[CV] alpha=1e-05, l1_ratio=1, loss=log, penalty=elasticnet ...........\n",
      "[CV]  alpha=1e-05, l1_ratio=1, loss=log, penalty=l2, score=0.912482 - 1.5min\n",
      "[CV] alpha=1e-05, l1_ratio=1, loss=log, penalty=elasticnet ...........\n",
      "[CV]  alpha=1e-05, l1_ratio=1, loss=log, penalty=l1, score=0.900988 - 3.5min\n",
      "[CV] alpha=0.0001, l1_ratio=0, loss=log, penalty=l1 ..................\n",
      "[CV]  alpha=1e-05, l1_ratio=1, loss=log, penalty=elasticnet, score=0.891278 - 3.6min\n",
      "[CV] alpha=0.0001, l1_ratio=0, loss=log, penalty=l1 ..................\n",
      "[CV]  alpha=1e-05, l1_ratio=1, loss=log, penalty=elasticnet, score=0.892643 - 3.5min\n",
      "[CV] alpha=0.0001, l1_ratio=0, loss=log, penalty=l1 ..................\n",
      "[CV]  alpha=1e-05, l1_ratio=1, loss=log, penalty=elasticnet, score=0.900988 - 3.5min\n",
      "[CV] alpha=0.0001, l1_ratio=0, loss=log, penalty=l2 ..................\n",
      "[CV]  alpha=0.0001, l1_ratio=0, loss=log, penalty=l1, score=0.907383 - 3.6min\n",
      "[CV] alpha=0.0001, l1_ratio=0, loss=log, penalty=l2 ..................\n",
      "[CV]  alpha=0.0001, l1_ratio=0, loss=log, penalty=l2, score=0.911906 - 1.5min\n",
      "[CV] alpha=0.0001, l1_ratio=0, loss=log, penalty=l2 ..................\n",
      "[CV]  alpha=0.0001, l1_ratio=0, loss=log, penalty=l2, score=0.909490 - 1.5min\n",
      "[CV] alpha=0.0001, l1_ratio=0, loss=log, penalty=elasticnet ..........\n",
      "[CV]  alpha=0.0001, l1_ratio=0, loss=log, penalty=l1, score=0.899935 - 3.7min\n",
      "[CV] alpha=0.0001, l1_ratio=0, loss=log, penalty=elasticnet ..........\n",
      "[CV]  alpha=0.0001, l1_ratio=0, loss=log, penalty=l1, score=0.910451 - 3.7min\n",
      "[CV] alpha=0.0001, l1_ratio=0, loss=log, penalty=elasticnet ..........\n"
     ]
    },
    {
     "name": "stderr",
     "output_type": "stream",
     "text": [
      "[Parallel(n_jobs=-1)]: Done  77 tasks      | elapsed: 55.7min\n"
     ]
    },
    {
     "name": "stdout",
     "output_type": "stream",
     "text": [
      "[CV]  alpha=0.0001, l1_ratio=0, loss=log, penalty=l2, score=0.918575 - 1.5min\n",
      "[CV] alpha=0.0001, l1_ratio=0.01, loss=log, penalty=l1 ...............\n",
      "[CV]  alpha=0.0001, l1_ratio=0, loss=log, penalty=elasticnet, score=0.911906 - 3.5min\n",
      "[CV] alpha=0.0001, l1_ratio=0.01, loss=log, penalty=l1 ...............\n",
      "[CV]  alpha=0.0001, l1_ratio=0, loss=log, penalty=elasticnet, score=0.909490 - 3.4min\n",
      "[CV] alpha=0.0001, l1_ratio=0.01, loss=log, penalty=l1 ...............\n",
      "[CV]  alpha=0.0001, l1_ratio=0, loss=log, penalty=elasticnet, score=0.918575 - 3.4min\n",
      "[CV] alpha=0.0001, l1_ratio=0.01, loss=log, penalty=l2 ...............\n",
      "[CV]  alpha=0.0001, l1_ratio=0.01, loss=log, penalty=l1, score=0.907383 - 3.6min\n",
      "[CV] alpha=0.0001, l1_ratio=0.01, loss=log, penalty=l2 ...............\n",
      "[CV]  alpha=0.0001, l1_ratio=0.01, loss=log, penalty=l2, score=0.911906 - 1.5min\n",
      "[CV] alpha=0.0001, l1_ratio=0.01, loss=log, penalty=l2 ...............\n",
      "[CV]  alpha=0.0001, l1_ratio=0.01, loss=log, penalty=l2, score=0.909490 - 1.5min\n",
      "[CV] alpha=0.0001, l1_ratio=0.01, loss=log, penalty=elasticnet .......\n",
      "[CV]  alpha=0.0001, l1_ratio=0.01, loss=log, penalty=l1, score=0.899935 - 3.7min\n",
      "[CV] alpha=0.0001, l1_ratio=0.01, loss=log, penalty=elasticnet .......\n",
      "[CV]  alpha=0.0001, l1_ratio=0.01, loss=log, penalty=l2, score=0.918575 - 1.5min\n",
      "[CV] alpha=0.0001, l1_ratio=0.01, loss=log, penalty=elasticnet .......\n",
      "[CV]  alpha=0.0001, l1_ratio=0.01, loss=log, penalty=l1, score=0.910451 - 3.7min\n",
      "[CV] alpha=0.0001, l1_ratio=0.1, loss=log, penalty=l1 ................\n",
      "[CV]  alpha=0.0001, l1_ratio=0.01, loss=log, penalty=elasticnet, score=0.911675 - 3.7min\n",
      "[CV] alpha=0.0001, l1_ratio=0.1, loss=log, penalty=l1 ................\n",
      "[CV]  alpha=0.0001, l1_ratio=0.01, loss=log, penalty=elasticnet, score=0.909536 - 3.7min\n",
      "[CV] alpha=0.0001, l1_ratio=0.1, loss=log, penalty=l1 ................\n",
      "[CV]  alpha=0.0001, l1_ratio=0.01, loss=log, penalty=elasticnet, score=0.918713 - 3.7min\n",
      "[CV] alpha=0.0001, l1_ratio=0.1, loss=log, penalty=l2 ................\n"
     ]
    },
    {
     "name": "stderr",
     "output_type": "stream",
     "text": [
      "[Parallel(n_jobs=-1)]: Done  90 tasks      | elapsed: 65.9min\n"
     ]
    },
    {
     "name": "stdout",
     "output_type": "stream",
     "text": [
      "[CV]  alpha=0.0001, l1_ratio=0.1, loss=log, penalty=l1, score=0.907383 - 3.6min\n",
      "[CV] alpha=0.0001, l1_ratio=0.1, loss=log, penalty=l2 ................\n",
      "[CV]  alpha=0.0001, l1_ratio=0.1, loss=log, penalty=l2, score=0.911906 - 1.5min\n",
      "[CV] alpha=0.0001, l1_ratio=0.1, loss=log, penalty=l2 ................\n",
      "[CV]  alpha=0.0001, l1_ratio=0.1, loss=log, penalty=l2, score=0.909490 - 1.6min\n",
      "[CV] alpha=0.0001, l1_ratio=0.1, loss=log, penalty=elasticnet ........\n",
      "[CV]  alpha=0.0001, l1_ratio=0.1, loss=log, penalty=l1, score=0.899935 - 3.7min\n",
      "[CV] alpha=0.0001, l1_ratio=0.1, loss=log, penalty=elasticnet ........\n",
      "[CV]  alpha=0.0001, l1_ratio=0.1, loss=log, penalty=l2, score=0.918575 - 1.5min\n",
      "[CV] alpha=0.0001, l1_ratio=0.1, loss=log, penalty=elasticnet ........\n",
      "[CV]  alpha=0.0001, l1_ratio=0.1, loss=log, penalty=l1, score=0.910451 - 3.7min\n",
      "[CV] alpha=0.0001, l1_ratio=1, loss=log, penalty=l1 ..................\n",
      "[CV]  alpha=0.0001, l1_ratio=0.1, loss=log, penalty=elasticnet, score=0.911721 - 3.6min\n",
      "[CV] alpha=0.0001, l1_ratio=1, loss=log, penalty=l1 ..................\n",
      "[CV]  alpha=0.0001, l1_ratio=0.1, loss=log, penalty=elasticnet, score=0.908982 - 3.6min\n",
      "[CV] alpha=0.0001, l1_ratio=1, loss=log, penalty=l1 ..................\n",
      "[CV]  alpha=0.0001, l1_ratio=0.1, loss=log, penalty=elasticnet, score=0.918390 - 3.6min\n",
      "[CV] alpha=0.0001, l1_ratio=1, loss=log, penalty=l2 ..................\n",
      "[CV]  alpha=0.0001, l1_ratio=1, loss=log, penalty=l1, score=0.907383 - 3.6min\n",
      "[CV] alpha=0.0001, l1_ratio=1, loss=log, penalty=l2 ..................\n",
      "[CV]  alpha=0.0001, l1_ratio=1, loss=log, penalty=l2, score=0.911906 - 1.5min\n",
      "[CV] alpha=0.0001, l1_ratio=1, loss=log, penalty=l2 ..................\n",
      "[CV]  alpha=0.0001, l1_ratio=1, loss=log, penalty=l2, score=0.909490 - 1.5min\n",
      "[CV] alpha=0.0001, l1_ratio=1, loss=log, penalty=elasticnet ..........\n",
      "[CV]  alpha=0.0001, l1_ratio=1, loss=log, penalty=l1, score=0.899935 - 3.7min\n",
      "[CV] alpha=0.0001, l1_ratio=1, loss=log, penalty=elasticnet ..........\n",
      "[CV]  alpha=0.0001, l1_ratio=1, loss=log, penalty=l2, score=0.918575 - 1.5min\n",
      "[CV] alpha=0.0001, l1_ratio=1, loss=log, penalty=elasticnet ..........\n",
      "[CV]  alpha=0.0001, l1_ratio=1, loss=log, penalty=l1, score=0.910451 - 3.7min\n",
      "[CV] alpha=0.001, l1_ratio=0, loss=log, penalty=l1 ...................\n"
     ]
    },
    {
     "name": "stderr",
     "output_type": "stream",
     "text": [
      "[Parallel(n_jobs=-1)]: Done 105 tasks      | elapsed: 75.7min\n"
     ]
    },
    {
     "name": "stdout",
     "output_type": "stream",
     "text": [
      "[CV]  alpha=0.0001, l1_ratio=1, loss=log, penalty=elasticnet, score=0.907383 - 3.7min\n",
      "[CV] alpha=0.001, l1_ratio=0, loss=log, penalty=l1 ...................\n",
      "[CV]  alpha=0.0001, l1_ratio=1, loss=log, penalty=elasticnet, score=0.899935 - 3.6min\n",
      "[CV] alpha=0.001, l1_ratio=0, loss=log, penalty=l1 ...................\n",
      "[CV]  alpha=0.001, l1_ratio=0, loss=log, penalty=l1, score=0.876557 - 3.4min\n",
      "[CV] alpha=0.001, l1_ratio=0, loss=log, penalty=l2 ...................\n",
      "[CV]  alpha=0.0001, l1_ratio=1, loss=log, penalty=elasticnet, score=0.910451 - 3.7min\n",
      "[CV] alpha=0.001, l1_ratio=0, loss=log, penalty=l2 ...................\n",
      "[CV]  alpha=0.001, l1_ratio=0, loss=log, penalty=l2, score=0.906414 - 1.5min\n",
      "[CV] alpha=0.001, l1_ratio=0, loss=log, penalty=l2 ...................\n",
      "[CV]  alpha=0.001, l1_ratio=0, loss=log, penalty=l2, score=0.902289 - 1.5min\n",
      "[CV] alpha=0.001, l1_ratio=0, loss=log, penalty=elasticnet ...........\n",
      "[CV]  alpha=0.001, l1_ratio=0, loss=log, penalty=l1, score=0.880966 - 3.4min\n",
      "[CV] alpha=0.001, l1_ratio=0, loss=log, penalty=elasticnet ...........\n",
      "[CV]  alpha=0.001, l1_ratio=0, loss=log, penalty=l1, score=0.895956 - 3.4min\n",
      "[CV] alpha=0.001, l1_ratio=0, loss=log, penalty=elasticnet ...........\n",
      "[CV]  alpha=0.001, l1_ratio=0, loss=log, penalty=l2, score=0.913728 - 1.5min\n",
      "[CV] alpha=0.001, l1_ratio=0.01, loss=log, penalty=l1 ................\n",
      "[CV]  alpha=0.001, l1_ratio=0, loss=log, penalty=elasticnet, score=0.906414 - 3.4min\n",
      "[CV] alpha=0.001, l1_ratio=0.01, loss=log, penalty=l1 ................\n",
      "[CV]  alpha=0.001, l1_ratio=0, loss=log, penalty=elasticnet, score=0.902289 - 3.3min\n",
      "[CV] alpha=0.001, l1_ratio=0.01, loss=log, penalty=l1 ................\n",
      "[CV]  alpha=0.001, l1_ratio=0, loss=log, penalty=elasticnet, score=0.913728 - 3.3min\n",
      "[CV] alpha=0.001, l1_ratio=0.01, loss=log, penalty=l2 ................\n",
      "[CV]  alpha=0.001, l1_ratio=0.01, loss=log, penalty=l1, score=0.876557 - 3.3min\n",
      "[CV] alpha=0.001, l1_ratio=0.01, loss=log, penalty=l2 ................\n",
      "[CV]  alpha=0.001, l1_ratio=0.01, loss=log, penalty=l2, score=0.906414 - 1.5min\n",
      "[CV] alpha=0.001, l1_ratio=0.01, loss=log, penalty=l2 ................\n",
      "[CV]  alpha=0.001, l1_ratio=0.01, loss=log, penalty=l2, score=0.902289 - 1.5min\n",
      "[CV] alpha=0.001, l1_ratio=0.01, loss=log, penalty=elasticnet ........\n"
     ]
    },
    {
     "name": "stderr",
     "output_type": "stream",
     "text": [
      "[Parallel(n_jobs=-1)]: Done 120 tasks      | elapsed: 87.0min\n"
     ]
    },
    {
     "name": "stdout",
     "output_type": "stream",
     "text": [
      "[CV]  alpha=0.001, l1_ratio=0.01, loss=log, penalty=l1, score=0.880966 - 3.5min\n",
      "[CV] alpha=0.001, l1_ratio=0.01, loss=log, penalty=elasticnet ........\n",
      "[CV]  alpha=0.001, l1_ratio=0.01, loss=log, penalty=l1, score=0.895956 - 3.4min\n",
      "[CV] alpha=0.001, l1_ratio=0.01, loss=log, penalty=elasticnet ........\n",
      "[CV]  alpha=0.001, l1_ratio=0.01, loss=log, penalty=l2, score=0.913728 - 1.5min\n",
      "[CV] alpha=0.001, l1_ratio=0.1, loss=log, penalty=l1 .................\n",
      "[CV]  alpha=0.001, l1_ratio=0.01, loss=log, penalty=elasticnet, score=0.906045 - 3.6min\n",
      "[CV] alpha=0.001, l1_ratio=0.1, loss=log, penalty=l1 .................\n",
      "[CV]  alpha=0.001, l1_ratio=0.01, loss=log, penalty=elasticnet, score=0.902289 - 3.6min\n",
      "[CV] alpha=0.001, l1_ratio=0.1, loss=log, penalty=l1 .................\n",
      "[CV]  alpha=0.001, l1_ratio=0.1, loss=log, penalty=l1, score=0.876557 - 3.4min\n",
      "[CV] alpha=0.001, l1_ratio=0.1, loss=log, penalty=l2 .................\n",
      "[CV]  alpha=0.001, l1_ratio=0.01, loss=log, penalty=elasticnet, score=0.913636 - 3.6min\n",
      "[CV] alpha=0.001, l1_ratio=0.1, loss=log, penalty=l2 .................\n",
      "[CV]  alpha=0.001, l1_ratio=0.1, loss=log, penalty=l2, score=0.906414 - 1.5min\n",
      "[CV] alpha=0.001, l1_ratio=0.1, loss=log, penalty=l2 .................\n",
      "[CV]  alpha=0.001, l1_ratio=0.1, loss=log, penalty=l2, score=0.902289 - 1.6min\n",
      "[CV] alpha=0.001, l1_ratio=0.1, loss=log, penalty=elasticnet .........\n",
      "[CV]  alpha=0.001, l1_ratio=0.1, loss=log, penalty=l1, score=0.880966 - 3.5min\n",
      "[CV] alpha=0.001, l1_ratio=0.1, loss=log, penalty=elasticnet .........\n",
      "[CV]  alpha=0.001, l1_ratio=0.1, loss=log, penalty=l1, score=0.895956 - 3.4min\n",
      "[CV] alpha=0.001, l1_ratio=0.1, loss=log, penalty=elasticnet .........\n",
      "[CV]  alpha=0.001, l1_ratio=0.1, loss=log, penalty=l2, score=0.913728 - 1.5min\n",
      "[CV] alpha=0.001, l1_ratio=1, loss=log, penalty=l1 ...................\n",
      "[CV]  alpha=0.001, l1_ratio=0.1, loss=log, penalty=elasticnet, score=0.903646 - 3.4min\n",
      "[CV] alpha=0.001, l1_ratio=1, loss=log, penalty=l1 ...................\n",
      "[CV]  alpha=0.001, l1_ratio=0.1, loss=log, penalty=elasticnet, score=0.900720 - 3.4min\n",
      "[CV] alpha=0.001, l1_ratio=1, loss=log, penalty=l1 ...................\n",
      "[CV]  alpha=0.001, l1_ratio=0.1, loss=log, penalty=elasticnet, score=0.912435 - 3.4min\n",
      "[CV] alpha=0.001, l1_ratio=1, loss=log, penalty=l2 ...................\n",
      "[CV]  alpha=0.001, l1_ratio=1, loss=log, penalty=l1, score=0.876557 - 3.4min\n",
      "[CV] alpha=0.001, l1_ratio=1, loss=log, penalty=l2 ...................\n",
      "[CV]  alpha=0.001, l1_ratio=1, loss=log, penalty=l2, score=0.906414 - 1.5min\n",
      "[CV] alpha=0.001, l1_ratio=1, loss=log, penalty=l2 ...................\n"
     ]
    },
    {
     "name": "stderr",
     "output_type": "stream",
     "text": [
      "[Parallel(n_jobs=-1)]: Done 137 tasks      | elapsed: 99.5min\n"
     ]
    },
    {
     "name": "stdout",
     "output_type": "stream",
     "text": [
      "[CV]  alpha=0.001, l1_ratio=1, loss=log, penalty=l2, score=0.902289 - 1.5min\n",
      "[CV] alpha=0.001, l1_ratio=1, loss=log, penalty=elasticnet ...........\n",
      "[CV]  alpha=0.001, l1_ratio=1, loss=log, penalty=l1, score=0.880966 - 3.4min\n",
      "[CV] alpha=0.001, l1_ratio=1, loss=log, penalty=elasticnet ...........\n",
      "[CV]  alpha=0.001, l1_ratio=1, loss=log, penalty=l1, score=0.895956 - 3.4min\n",
      "[CV] alpha=0.001, l1_ratio=1, loss=log, penalty=elasticnet ...........\n",
      "[CV]  alpha=0.001, l1_ratio=1, loss=log, penalty=l2, score=0.913728 - 1.5min\n",
      "[CV] alpha=0.01, l1_ratio=0, loss=log, penalty=l1 ....................\n",
      "[CV]  alpha=0.001, l1_ratio=1, loss=log, penalty=elasticnet, score=0.876557 - 3.4min\n",
      "[CV] alpha=0.01, l1_ratio=0, loss=log, penalty=l1 ....................\n",
      "[CV]  alpha=0.001, l1_ratio=1, loss=log, penalty=elasticnet, score=0.880966 - 3.4min\n",
      "[CV] alpha=0.01, l1_ratio=0, loss=log, penalty=l1 ....................\n",
      "[CV]  alpha=0.01, l1_ratio=0, loss=log, penalty=l1, score=0.797462 - 3.2min\n",
      "[CV] alpha=0.01, l1_ratio=0, loss=log, penalty=l2 ....................\n",
      "[CV]  alpha=0.001, l1_ratio=1, loss=log, penalty=elasticnet, score=0.895956 - 3.4min\n",
      "[CV] alpha=0.01, l1_ratio=0, loss=log, penalty=l2 ....................\n",
      "[CV]  alpha=0.01, l1_ratio=0, loss=log, penalty=l2, score=0.885187 - 1.6min\n",
      "[CV] alpha=0.01, l1_ratio=0, loss=log, penalty=l2 ....................\n",
      "[CV]  alpha=0.01, l1_ratio=0, loss=log, penalty=l2, score=0.883596 - 1.5min\n",
      "[CV] alpha=0.01, l1_ratio=0, loss=log, penalty=elasticnet ............\n",
      "[CV]  alpha=0.01, l1_ratio=0, loss=log, penalty=l1, score=0.795671 - 3.2min\n",
      "[CV] alpha=0.01, l1_ratio=0, loss=log, penalty=elasticnet ............\n",
      "[CV]  alpha=0.01, l1_ratio=0, loss=log, penalty=l1, score=0.812777 - 3.2min\n",
      "[CV] alpha=0.01, l1_ratio=0, loss=log, penalty=elasticnet ............\n",
      "[CV]  alpha=0.01, l1_ratio=0, loss=log, penalty=l2, score=0.897803 - 1.5min\n",
      "[CV] alpha=0.01, l1_ratio=0.01, loss=log, penalty=l1 .................\n",
      "[CV]  alpha=0.01, l1_ratio=0, loss=log, penalty=elasticnet, score=0.885187 - 3.3min\n",
      "[CV] alpha=0.01, l1_ratio=0.01, loss=log, penalty=l1 .................\n",
      "[CV]  alpha=0.01, l1_ratio=0, loss=log, penalty=elasticnet, score=0.883596 - 3.3min\n",
      "[CV] alpha=0.01, l1_ratio=0.01, loss=log, penalty=l1 .................\n",
      "[CV]  alpha=0.01, l1_ratio=0, loss=log, penalty=elasticnet, score=0.897803 - 3.3min\n",
      "[CV] alpha=0.01, l1_ratio=0.01, loss=log, penalty=l2 .................\n",
      "[CV]  alpha=0.01, l1_ratio=0.01, loss=log, penalty=l1, score=0.797462 - 3.2min\n",
      "[CV] alpha=0.01, l1_ratio=0.01, loss=log, penalty=l2 .................\n"
     ]
    },
    {
     "name": "stderr",
     "output_type": "stream",
     "text": [
      "[Parallel(n_jobs=-1)]: Done 154 tasks      | elapsed: 110.5min\n"
     ]
    },
    {
     "name": "stdout",
     "output_type": "stream",
     "text": [
      "[CV]  alpha=0.01, l1_ratio=0.01, loss=log, penalty=l2, score=0.885187 - 1.5min\n",
      "[CV] alpha=0.01, l1_ratio=0.01, loss=log, penalty=l2 .................\n",
      "[CV]  alpha=0.01, l1_ratio=0.01, loss=log, penalty=l2, score=0.883596 - 1.5min\n",
      "[CV] alpha=0.01, l1_ratio=0.01, loss=log, penalty=elasticnet .........\n",
      "[CV]  alpha=0.01, l1_ratio=0.01, loss=log, penalty=l1, score=0.795671 - 3.2min\n",
      "[CV] alpha=0.01, l1_ratio=0.01, loss=log, penalty=elasticnet .........\n",
      "[CV]  alpha=0.01, l1_ratio=0.01, loss=log, penalty=l1, score=0.812777 - 3.2min\n",
      "[CV] alpha=0.01, l1_ratio=0.01, loss=log, penalty=elasticnet .........\n",
      "[CV]  alpha=0.01, l1_ratio=0.01, loss=log, penalty=l2, score=0.897803 - 1.5min\n",
      "[CV] alpha=0.01, l1_ratio=0.1, loss=log, penalty=l1 ..................\n",
      "[CV]  alpha=0.01, l1_ratio=0.01, loss=log, penalty=elasticnet, score=0.884033 - 3.4min\n",
      "[CV] alpha=0.01, l1_ratio=0.1, loss=log, penalty=l1 ..................\n",
      "[CV]  alpha=0.01, l1_ratio=0.01, loss=log, penalty=elasticnet, score=0.882027 - 3.4min\n",
      "[CV] alpha=0.01, l1_ratio=0.1, loss=log, penalty=l1 ..................\n",
      "[CV]  alpha=0.01, l1_ratio=0.01, loss=log, penalty=elasticnet, score=0.896372 - 3.4min\n",
      "[CV] alpha=0.01, l1_ratio=0.1, loss=log, penalty=l2 ..................\n",
      "[CV]  alpha=0.01, l1_ratio=0.1, loss=log, penalty=l1, score=0.797462 - 3.2min\n",
      "[CV] alpha=0.01, l1_ratio=0.1, loss=log, penalty=l2 ..................\n",
      "[CV]  alpha=0.01, l1_ratio=0.1, loss=log, penalty=l2, score=0.885187 - 1.5min\n",
      "[CV] alpha=0.01, l1_ratio=0.1, loss=log, penalty=l2 ..................\n",
      "[CV]  alpha=0.01, l1_ratio=0.1, loss=log, penalty=l2, score=0.883596 - 1.6min\n",
      "[CV] alpha=0.01, l1_ratio=0.1, loss=log, penalty=elasticnet ..........\n",
      "[CV]  alpha=0.01, l1_ratio=0.1, loss=log, penalty=l1, score=0.795671 - 3.2min\n",
      "[CV] alpha=0.01, l1_ratio=0.1, loss=log, penalty=elasticnet ..........\n",
      "[CV]  alpha=0.01, l1_ratio=0.1, loss=log, penalty=l1, score=0.812777 - 3.2min\n",
      "[CV] alpha=0.01, l1_ratio=0.1, loss=log, penalty=elasticnet ..........\n",
      "[CV]  alpha=0.01, l1_ratio=0.1, loss=log, penalty=l2, score=0.897803 - 1.5min\n",
      "[CV] alpha=0.01, l1_ratio=1, loss=log, penalty=l1 ....................\n",
      "[CV]  alpha=0.01, l1_ratio=0.1, loss=log, penalty=elasticnet, score=0.875265 - 3.4min\n",
      "[CV] alpha=0.01, l1_ratio=1, loss=log, penalty=l1 ....................\n",
      "[CV]  alpha=0.01, l1_ratio=0.1, loss=log, penalty=elasticnet, score=0.872981 - 3.3min\n",
      "[CV] alpha=0.01, l1_ratio=1, loss=log, penalty=l1 ....................\n",
      "[CV]  alpha=0.01, l1_ratio=1, loss=log, penalty=l1, score=0.797462 - 3.2min\n",
      "[CV] alpha=0.01, l1_ratio=1, loss=log, penalty=l2 ....................\n",
      "[CV]  alpha=0.01, l1_ratio=0.1, loss=log, penalty=elasticnet, score=0.889586 - 3.3min\n",
      "[CV] alpha=0.01, l1_ratio=1, loss=log, penalty=l2 ....................\n",
      "[CV]  alpha=0.01, l1_ratio=1, loss=log, penalty=l2, score=0.885187 - 1.5min\n",
      "[CV] alpha=0.01, l1_ratio=1, loss=log, penalty=l2 ....................\n"
     ]
    },
    {
     "name": "stderr",
     "output_type": "stream",
     "text": [
      "[Parallel(n_jobs=-1)]: Done 173 tasks      | elapsed: 123.9min\n"
     ]
    },
    {
     "name": "stdout",
     "output_type": "stream",
     "text": [
      "[CV]  alpha=0.01, l1_ratio=1, loss=log, penalty=l2, score=0.883596 - 1.5min\n",
      "[CV] alpha=0.01, l1_ratio=1, loss=log, penalty=elasticnet ............\n",
      "[CV]  alpha=0.01, l1_ratio=1, loss=log, penalty=l1, score=0.795671 - 3.2min\n",
      "[CV] alpha=0.01, l1_ratio=1, loss=log, penalty=elasticnet ............\n",
      "[CV]  alpha=0.01, l1_ratio=1, loss=log, penalty=l1, score=0.812777 - 3.2min\n",
      "[CV] alpha=0.01, l1_ratio=1, loss=log, penalty=elasticnet ............\n",
      "[CV]  alpha=0.01, l1_ratio=1, loss=log, penalty=l2, score=0.897803 - 1.5min\n",
      "[CV] alpha=0.1, l1_ratio=0, loss=log, penalty=l1 .....................\n",
      "[CV]  alpha=0.01, l1_ratio=1, loss=log, penalty=elasticnet, score=0.797462 - 3.2min\n",
      "[CV] alpha=0.1, l1_ratio=0, loss=log, penalty=l1 .....................\n",
      "[CV]  alpha=0.01, l1_ratio=1, loss=log, penalty=elasticnet, score=0.795671 - 3.2min\n",
      "[CV] alpha=0.1, l1_ratio=0, loss=log, penalty=l1 .....................\n",
      "[CV]  alpha=0.01, l1_ratio=1, loss=log, penalty=elasticnet, score=0.812777 - 3.2min\n",
      "[CV] alpha=0.1, l1_ratio=0, loss=log, penalty=l2 .....................\n",
      "[CV]  alpha=0.1, l1_ratio=0, loss=log, penalty=l1, score=0.112506 - 3.0min\n",
      "[CV] alpha=0.1, l1_ratio=0, loss=log, penalty=l2 .....................\n",
      "[CV]  alpha=0.1, l1_ratio=0, loss=log, penalty=l2, score=0.846193 - 1.5min\n",
      "[CV] alpha=0.1, l1_ratio=0, loss=log, penalty=l2 .....................\n",
      "[CV]  alpha=0.1, l1_ratio=0, loss=log, penalty=l2, score=0.849534 - 1.5min\n",
      "[CV] alpha=0.1, l1_ratio=0, loss=log, penalty=elasticnet .............\n",
      "[CV]  alpha=0.1, l1_ratio=0, loss=log, penalty=l1, score=0.112527 - 3.1min\n",
      "[CV] alpha=0.1, l1_ratio=0, loss=log, penalty=elasticnet .............\n",
      "[CV]  alpha=0.1, l1_ratio=0, loss=log, penalty=l1, score=0.112537 - 3.1min\n",
      "[CV] alpha=0.1, l1_ratio=0, loss=log, penalty=elasticnet .............\n",
      "[CV]  alpha=0.1, l1_ratio=0, loss=log, penalty=l2, score=0.865630 - 1.5min\n",
      "[CV] alpha=0.1, l1_ratio=0.01, loss=log, penalty=l1 ..................\n",
      "[CV]  alpha=0.1, l1_ratio=0, loss=log, penalty=elasticnet, score=0.846193 - 3.3min\n",
      "[CV] alpha=0.1, l1_ratio=0.01, loss=log, penalty=l1 ..................\n",
      "[CV]  alpha=0.1, l1_ratio=0, loss=log, penalty=elasticnet, score=0.849534 - 3.3min\n",
      "[CV] alpha=0.1, l1_ratio=0.01, loss=log, penalty=l1 ..................\n",
      "[CV]  alpha=0.1, l1_ratio=0, loss=log, penalty=elasticnet, score=0.865630 - 3.2min\n",
      "[CV] alpha=0.1, l1_ratio=0.01, loss=log, penalty=l2 ..................\n",
      "[CV]  alpha=0.1, l1_ratio=0.01, loss=log, penalty=l1, score=0.112506 - 3.0min\n",
      "[CV] alpha=0.1, l1_ratio=0.01, loss=log, penalty=l2 ..................\n",
      "[CV]  alpha=0.1, l1_ratio=0.01, loss=log, penalty=l2, score=0.846193 - 1.5min\n",
      "[CV] alpha=0.1, l1_ratio=0.01, loss=log, penalty=l2 ..................\n",
      "[CV]  alpha=0.1, l1_ratio=0.01, loss=log, penalty=l2, score=0.849534 - 1.5min\n",
      "[CV] alpha=0.1, l1_ratio=0.01, loss=log, penalty=elasticnet ..........\n"
     ]
    },
    {
     "name": "stderr",
     "output_type": "stream",
     "text": [
      "[Parallel(n_jobs=-1)]: Done 192 tasks      | elapsed: 136.0min\n"
     ]
    },
    {
     "name": "stdout",
     "output_type": "stream",
     "text": [
      "[CV]  alpha=0.1, l1_ratio=0.01, loss=log, penalty=l1, score=0.112527 - 3.1min\n",
      "[CV] alpha=0.1, l1_ratio=0.01, loss=log, penalty=elasticnet ..........\n",
      "[CV]  alpha=0.1, l1_ratio=0.01, loss=log, penalty=l1, score=0.112537 - 3.1min\n",
      "[CV] alpha=0.1, l1_ratio=0.01, loss=log, penalty=elasticnet ..........\n",
      "[CV]  alpha=0.1, l1_ratio=0.01, loss=log, penalty=l2, score=0.865630 - 1.5min\n",
      "[CV] alpha=0.1, l1_ratio=0.1, loss=log, penalty=l1 ...................\n",
      "[CV]  alpha=0.1, l1_ratio=0.01, loss=log, penalty=elasticnet, score=0.841440 - 3.3min\n",
      "[CV] alpha=0.1, l1_ratio=0.1, loss=log, penalty=l1 ...................\n",
      "[CV]  alpha=0.1, l1_ratio=0.01, loss=log, penalty=elasticnet, score=0.845426 - 3.3min\n",
      "[CV] alpha=0.1, l1_ratio=0.1, loss=log, penalty=l1 ...................\n",
      "[CV]  alpha=0.1, l1_ratio=0.01, loss=log, penalty=elasticnet, score=0.860691 - 3.3min\n",
      "[CV] alpha=0.1, l1_ratio=0.1, loss=log, penalty=l2 ...................\n",
      "[CV]  alpha=0.1, l1_ratio=0.1, loss=log, penalty=l1, score=0.112506 - 3.0min\n",
      "[CV] alpha=0.1, l1_ratio=0.1, loss=log, penalty=l2 ...................\n",
      "[CV]  alpha=0.1, l1_ratio=0.1, loss=log, penalty=l2, score=0.846193 - 1.5min\n",
      "[CV] alpha=0.1, l1_ratio=0.1, loss=log, penalty=l2 ...................\n",
      "[CV]  alpha=0.1, l1_ratio=0.1, loss=log, penalty=l2, score=0.849534 - 1.5min\n",
      "[CV] alpha=0.1, l1_ratio=0.1, loss=log, penalty=elasticnet ...........\n",
      "[CV]  alpha=0.1, l1_ratio=0.1, loss=log, penalty=l1, score=0.112527 - 3.1min\n",
      "[CV] alpha=0.1, l1_ratio=0.1, loss=log, penalty=elasticnet ...........\n",
      "[CV]  alpha=0.1, l1_ratio=0.1, loss=log, penalty=l1, score=0.112537 - 3.1min\n",
      "[CV] alpha=0.1, l1_ratio=0.1, loss=log, penalty=elasticnet ...........\n",
      "[CV]  alpha=0.1, l1_ratio=0.1, loss=log, penalty=l2, score=0.865630 - 1.5min\n",
      "[CV] alpha=0.1, l1_ratio=1, loss=log, penalty=l1 .....................\n",
      "[CV]  alpha=0.1, l1_ratio=0.1, loss=log, penalty=elasticnet, score=0.790817 - 3.3min\n",
      "[CV] alpha=0.1, l1_ratio=1, loss=log, penalty=l1 .....................\n",
      "[CV]  alpha=0.1, l1_ratio=0.1, loss=log, penalty=elasticnet, score=0.791332 - 3.3min\n",
      "[CV] alpha=0.1, l1_ratio=1, loss=log, penalty=l1 .....................\n",
      "[CV]  alpha=0.1, l1_ratio=1, loss=log, penalty=l1, score=0.112506 - 3.0min\n",
      "[CV] alpha=0.1, l1_ratio=1, loss=log, penalty=l2 .....................\n",
      "[CV]  alpha=0.1, l1_ratio=0.1, loss=log, penalty=elasticnet, score=0.804884 - 3.3min\n",
      "[CV] alpha=0.1, l1_ratio=1, loss=log, penalty=l2 .....................\n",
      "[CV]  alpha=0.1, l1_ratio=1, loss=log, penalty=l2, score=0.846193 - 1.5min\n",
      "[CV] alpha=0.1, l1_ratio=1, loss=log, penalty=l2 .....................\n",
      "[CV]  alpha=0.1, l1_ratio=1, loss=log, penalty=l2, score=0.849534 - 1.6min\n",
      "[CV] alpha=0.1, l1_ratio=1, loss=log, penalty=elasticnet .............\n",
      "[CV]  alpha=0.1, l1_ratio=1, loss=log, penalty=l1, score=0.112527 - 3.1min\n",
      "[CV] alpha=0.1, l1_ratio=1, loss=log, penalty=elasticnet .............\n",
      "[CV]  alpha=0.1, l1_ratio=1, loss=log, penalty=l1, score=0.112537 - 3.1min\n",
      "[CV] alpha=0.1, l1_ratio=1, loss=log, penalty=elasticnet .............\n",
      "[CV]  alpha=0.1, l1_ratio=1, loss=log, penalty=l2, score=0.865630 - 1.5min\n",
      "[CV] alpha=1, l1_ratio=0, loss=log, penalty=l1 .......................\n"
     ]
    },
    {
     "name": "stderr",
     "output_type": "stream",
     "text": [
      "[Parallel(n_jobs=-1)]: Done 213 tasks      | elapsed: 149.0min\n"
     ]
    },
    {
     "name": "stdout",
     "output_type": "stream",
     "text": [
      "[CV]  alpha=0.1, l1_ratio=1, loss=log, penalty=elasticnet, score=0.112506 - 3.0min\n",
      "[CV] alpha=1, l1_ratio=0, loss=log, penalty=l1 .......................\n",
      "[CV]  alpha=0.1, l1_ratio=1, loss=log, penalty=elasticnet, score=0.112527 - 3.0min\n",
      "[CV] alpha=1, l1_ratio=0, loss=log, penalty=l1 .......................\n",
      "[CV]  alpha=0.1, l1_ratio=1, loss=log, penalty=elasticnet, score=0.112537 - 3.0min\n",
      "[CV] alpha=1, l1_ratio=0, loss=log, penalty=l2 .......................\n",
      "[CV]  alpha=1, l1_ratio=0, loss=log, penalty=l1, score=0.097877 - 3.0min\n",
      "[CV] alpha=1, l1_ratio=0, loss=log, penalty=l2 .......................\n",
      "[CV]  alpha=1, l1_ratio=0, loss=log, penalty=l2, score=0.771574 - 1.6min\n",
      "[CV] alpha=1, l1_ratio=0, loss=log, penalty=l2 .......................\n",
      "[CV]  alpha=1, l1_ratio=0, loss=log, penalty=l2, score=0.786024 - 1.6min\n",
      "[CV] alpha=1, l1_ratio=0, loss=log, penalty=elasticnet ...............\n",
      "[CV]  alpha=1, l1_ratio=0, loss=log, penalty=l1, score=0.112527 - 3.1min\n",
      "[CV] alpha=1, l1_ratio=0, loss=log, penalty=elasticnet ...............\n",
      "[CV]  alpha=1, l1_ratio=0, loss=log, penalty=l1, score=0.112537 - 3.1min\n",
      "[CV] alpha=1, l1_ratio=0, loss=log, penalty=elasticnet ...............\n",
      "[CV]  alpha=1, l1_ratio=0, loss=log, penalty=l2, score=0.806730 - 1.5min\n",
      "[CV] alpha=1, l1_ratio=0.01, loss=log, penalty=l1 ....................\n",
      "[CV]  alpha=1, l1_ratio=0, loss=log, penalty=elasticnet, score=0.771574 - 3.3min\n",
      "[CV] alpha=1, l1_ratio=0.01, loss=log, penalty=l1 ....................\n",
      "[CV]  alpha=1, l1_ratio=0, loss=log, penalty=elasticnet, score=0.786024 - 3.3min\n",
      "[CV] alpha=1, l1_ratio=0.01, loss=log, penalty=l1 ....................\n",
      "[CV]  alpha=1, l1_ratio=0, loss=log, penalty=elasticnet, score=0.806730 - 3.3min\n",
      "[CV] alpha=1, l1_ratio=0.01, loss=log, penalty=l2 ....................\n",
      "[CV]  alpha=1, l1_ratio=0.01, loss=log, penalty=l1, score=0.097877 - 3.0min\n",
      "[CV] alpha=1, l1_ratio=0.01, loss=log, penalty=l2 ....................\n",
      "[CV]  alpha=1, l1_ratio=0.01, loss=log, penalty=l2, score=0.771574 - 1.5min\n",
      "[CV] alpha=1, l1_ratio=0.01, loss=log, penalty=l2 ....................\n",
      "[CV]  alpha=1, l1_ratio=0.01, loss=log, penalty=l2, score=0.786024 - 1.5min\n",
      "[CV] alpha=1, l1_ratio=0.01, loss=log, penalty=elasticnet ............\n",
      "[CV]  alpha=1, l1_ratio=0.01, loss=log, penalty=l1, score=0.112527 - 3.1min\n",
      "[CV] alpha=1, l1_ratio=0.01, loss=log, penalty=elasticnet ............\n",
      "[CV]  alpha=1, l1_ratio=0.01, loss=log, penalty=l1, score=0.112537 - 3.1min\n",
      "[CV] alpha=1, l1_ratio=0.01, loss=log, penalty=elasticnet ............\n",
      "[CV]  alpha=1, l1_ratio=0.01, loss=log, penalty=l2, score=0.806730 - 1.5min\n",
      "[CV] alpha=1, l1_ratio=0.1, loss=log, penalty=l1 .....................\n",
      "[CV]  alpha=1, l1_ratio=0.01, loss=log, penalty=elasticnet, score=0.742686 - 3.2min\n",
      "[CV] alpha=1, l1_ratio=0.1, loss=log, penalty=l1 .....................\n",
      "[CV]  alpha=1, l1_ratio=0.01, loss=log, penalty=elasticnet, score=0.748223 - 3.2min\n",
      "[CV] alpha=1, l1_ratio=0.1, loss=log, penalty=l1 .....................\n",
      "[CV]  alpha=1, l1_ratio=0.01, loss=log, penalty=elasticnet, score=0.779219 - 3.3min\n",
      "[CV] alpha=1, l1_ratio=0.1, loss=log, penalty=l2 .....................\n"
     ]
    },
    {
     "name": "stderr",
     "output_type": "stream",
     "text": [
      "[Parallel(n_jobs=-1)]: Done 234 tasks      | elapsed: 163.3min\n"
     ]
    },
    {
     "name": "stdout",
     "output_type": "stream",
     "text": [
      "[CV]  alpha=1, l1_ratio=0.1, loss=log, penalty=l1, score=0.097877 - 3.0min\n",
      "[CV] alpha=1, l1_ratio=0.1, loss=log, penalty=l2 .....................\n",
      "[CV]  alpha=1, l1_ratio=0.1, loss=log, penalty=l2, score=0.771574 - 1.5min\n",
      "[CV] alpha=1, l1_ratio=0.1, loss=log, penalty=l2 .....................\n",
      "[CV]  alpha=1, l1_ratio=0.1, loss=log, penalty=l2, score=0.786024 - 1.6min\n",
      "[CV] alpha=1, l1_ratio=0.1, loss=log, penalty=elasticnet .............\n",
      "[CV]  alpha=1, l1_ratio=0.1, loss=log, penalty=l1, score=0.112527 - 3.1min\n",
      "[CV] alpha=1, l1_ratio=0.1, loss=log, penalty=elasticnet .............\n",
      "[CV]  alpha=1, l1_ratio=0.1, loss=log, penalty=l1, score=0.112537 - 3.1min\n",
      "[CV] alpha=1, l1_ratio=0.1, loss=log, penalty=elasticnet .............\n",
      "[CV]  alpha=1, l1_ratio=0.1, loss=log, penalty=l2, score=0.806730 - 1.5min\n",
      "[CV] alpha=1, l1_ratio=1, loss=log, penalty=l1 .......................\n",
      "[CV]  alpha=1, l1_ratio=0.1, loss=log, penalty=elasticnet, score=0.097877 - 3.1min\n",
      "[CV] alpha=1, l1_ratio=1, loss=log, penalty=l1 .......................\n",
      "[CV]  alpha=1, l1_ratio=0.1, loss=log, penalty=elasticnet, score=0.112527 - 3.1min\n",
      "[CV] alpha=1, l1_ratio=1, loss=log, penalty=l1 .......................\n",
      "[CV]  alpha=1, l1_ratio=0.1, loss=log, penalty=elasticnet, score=0.112537 - 3.1min\n",
      "[CV] alpha=1, l1_ratio=1, loss=log, penalty=l2 .......................\n",
      "[CV]  alpha=1, l1_ratio=1, loss=log, penalty=l1, score=0.097877 - 3.0min\n",
      "[CV] alpha=1, l1_ratio=1, loss=log, penalty=l2 .......................\n",
      "[CV]  alpha=1, l1_ratio=1, loss=log, penalty=l2, score=0.771574 - 1.6min\n",
      "[CV] alpha=1, l1_ratio=1, loss=log, penalty=l2 .......................\n",
      "[CV]  alpha=1, l1_ratio=1, loss=log, penalty=l2, score=0.786024 - 1.5min\n",
      "[CV] alpha=1, l1_ratio=1, loss=log, penalty=elasticnet ...............\n",
      "[CV]  alpha=1, l1_ratio=1, loss=log, penalty=l1, score=0.112527 - 3.1min\n",
      "[CV] alpha=1, l1_ratio=1, loss=log, penalty=elasticnet ...............\n",
      "[CV]  alpha=1, l1_ratio=1, loss=log, penalty=l1, score=0.112537 - 3.1min\n",
      "[CV] alpha=1, l1_ratio=1, loss=log, penalty=elasticnet ...............\n",
      "[CV]  alpha=1, l1_ratio=1, loss=log, penalty=l2, score=0.806730 - 1.5min\n",
      "[CV]  alpha=1, l1_ratio=1, loss=log, penalty=elasticnet, score=0.097877 - 3.0min\n",
      "[CV]  alpha=1, l1_ratio=1, loss=log, penalty=elasticnet, score=0.112527 - 3.0min\n",
      "[CV]  alpha=1, l1_ratio=1, loss=log, penalty=elasticnet, score=0.112537 - 2.9min\n"
     ]
    },
    {
     "name": "stderr",
     "output_type": "stream",
     "text": [
      "[Parallel(n_jobs=-1)]: Done 252 out of 252 | elapsed: 174.8min finished\n"
     ]
    },
    {
     "data": {
      "text/plain": [
       "GridSearchCV(cv=None, error_score='raise',\n",
       "       estimator=SGDClassifier(alpha=0.0001, average=False, class_weight=None, epsilon=0.1,\n",
       "       eta0=0.0, fit_intercept=True, l1_ratio=0.15,\n",
       "       learning_rate='optimal', loss='hinge', max_iter=100, n_iter=None,\n",
       "       n_jobs=1, penalty='l2', power_t=0.5, random_state=42, shuffle=True,\n",
       "       tol=None, verbose=0, warm_start=False),\n",
       "       fit_params={}, iid=True, n_jobs=-1,\n",
       "       param_grid={'loss': ['log'], 'penalty': ['l1', 'l2', 'elasticnet'], 'alpha': [1e-06, 1e-05, 0.0001, 0.001, 0.01, 0.1, 1], 'l1_ratio': [0, 0.01, 0.1, 1]},\n",
       "       pre_dispatch='2*n_jobs', refit=True, scoring='accuracy', verbose=10)"
      ]
     },
     "execution_count": 39,
     "metadata": {},
     "output_type": "execute_result"
    }
   ],
   "source": [
    "sgd_clf = SGDClassifier(random_state = seed, max_iter = 100)\n",
    "param_grid = param_grid = {\n",
    "    \"loss\": [\"log\"],\n",
    "    \"penalty\": [\"l1\", \"l2\", \"elasticnet\"],\n",
    "    \"alpha\": [10 ** x for x in range(-6, 1)],\n",
    "    \"l1_ratio\": [0, 0.01, 0.1,1],\n",
    "\n",
    "}\n",
    "\n",
    "clf_grid = GridSearchCV(estimator=sgd_clf, \n",
    "                        param_grid=param_grid,\n",
    "                        n_jobs=-1, \n",
    "                        scoring='accuracy',\n",
    "                        verbose = 10)\n",
    "\n",
    "clf_grid.fit(X,y)"
   ]
  },
  {
   "cell_type": "code",
   "execution_count": 40,
   "metadata": {},
   "outputs": [
    {
     "name": "stdout",
     "output_type": "stream",
     "text": [
      "Accuracy: 0.9133230769230769\n",
      "Best Params\n",
      "alpha: 0.0001 \n",
      "l1: 0 \n",
      "penalty: l2\n"
     ]
    }
   ],
   "source": [
    "print(\"Accuracy: {}\\n\\\n",
    "Best Params\\n\\\n",
    "alpha: {} \\n\\\n",
    "l1: {} \\n\\\n",
    "penalty: {}\".format(clf_grid.best_score_,\n",
    "                    clf_grid.best_params_[\"alpha\"],\n",
    "                    clf_grid.best_params_[\"l1_ratio\"],\n",
    "                    clf_grid.best_params_[\"penalty\"]\n",
    "                   ))"
   ]
  },
  {
   "cell_type": "markdown",
   "metadata": {},
   "source": [
    "Well, appears as if parameter tuning does nothing...\n",
    "\n",
    "Lets try a few more classifiers and see what ones work best\n",
    "\n",
    "**Random Forest**"
   ]
  },
  {
   "cell_type": "code",
   "execution_count": 45,
   "metadata": {},
   "outputs": [],
   "source": [
    "rnf_clf = RandomForestClassifier(n_jobs = 2, random_state = seed)\n",
    "\n",
    "rnf_scores = cross_val_score(rnf_clf,\n",
    "                          X_train,\n",
    "                          y_train,\n",
    "                          cv = 3,\n",
    "                          scoring = \"accuracy\"\n",
    "                         )"
   ]
  },
  {
   "cell_type": "code",
   "execution_count": 47,
   "metadata": {},
   "outputs": [
    {
     "name": "stdout",
     "output_type": "stream",
     "text": [
      "Random Forest accuracy scores: [0.937 0.937 0.94 ]\n",
      "Random Forest accuracy mean: 0.938\n",
      "Random Forest accuracy devation: 0.002\n"
     ]
    }
   ],
   "source": [
    "print(\"Random Forest accuracy scores: {}\\n\\\n",
    "Random Forest accuracy mean: {}\\n\\\n",
    "Random Forest accuracy devation: {}\".format(\n",
    "                np.round(rnf_scores, decimals = 3),\n",
    "                np.round(np.mean(rnf_scores), decimals = 3),\n",
    "                np.round(np.std(rnf_scores), decimals = 3)\n",
    "    ))"
   ]
  },
  {
   "cell_type": "markdown",
   "metadata": {},
   "source": [
    "Better, by ~2% maybe this could work?"
   ]
  },
  {
   "cell_type": "code",
   "execution_count": 57,
   "metadata": {},
   "outputs": [],
   "source": [
    "param_grid = {\n",
    "    \"n_estimators\": [int(x) for x in range(200,2100,200)],\n",
    "    \"max_depth\": [int(x) for x in range(10,110,10)],\n",
    " }"
   ]
  },
  {
   "cell_type": "code",
   "execution_count": 58,
   "metadata": {},
   "outputs": [
    {
     "name": "stdout",
     "output_type": "stream",
     "text": [
      "Fitting 3 folds for each of 190 candidates, totalling 570 fits\n",
      "[CV] max_depth=10, n_estimators=200 ..................................\n",
      "[CV] max_depth=10, n_estimators=200 ..................................\n",
      "[CV] max_depth=10, n_estimators=200 ..................................\n",
      "[CV] max_depth=10, n_estimators=300 ..................................\n",
      "[CV] ......... max_depth=10, n_estimators=200, score=0.943666 -  41.6s\n",
      "[CV] max_depth=10, n_estimators=300 ..................................\n",
      "[CV] ......... max_depth=10, n_estimators=200, score=0.945936 -  41.7s\n",
      "[CV] max_depth=10, n_estimators=300 ..................................\n",
      "[CV] ......... max_depth=10, n_estimators=200, score=0.941799 -  42.0s\n",
      "[CV] max_depth=10, n_estimators=400 ..................................\n",
      "[CV] ......... max_depth=10, n_estimators=300, score=0.944048 - 1.0min\n",
      "[CV] max_depth=10, n_estimators=400 ..................................\n",
      "[CV] ......... max_depth=10, n_estimators=300, score=0.941744 - 1.0min\n",
      "[CV] max_depth=10, n_estimators=400 ..................................\n"
     ]
    },
    {
     "name": "stderr",
     "output_type": "stream",
     "text": [
      "[Parallel(n_jobs=-1)]: Done   5 tasks      | elapsed:  1.7min\n"
     ]
    },
    {
     "name": "stdout",
     "output_type": "stream",
     "text": [
      "[CV] ......... max_depth=10, n_estimators=300, score=0.946590 - 1.0min\n",
      "[CV] max_depth=10, n_estimators=500 ..................................\n",
      "[CV] ......... max_depth=10, n_estimators=400, score=0.944866 - 1.4min\n",
      "[CV] max_depth=10, n_estimators=500 ..................................\n",
      "[CV] ......... max_depth=10, n_estimators=400, score=0.941526 - 1.4min\n",
      "[CV] max_depth=10, n_estimators=500 ..................................\n",
      "[CV] ......... max_depth=10, n_estimators=400, score=0.946809 - 1.4min\n",
      "[CV] max_depth=10, n_estimators=600 ..................................\n",
      "[CV] ......... max_depth=10, n_estimators=500, score=0.944102 - 1.8min\n",
      "[CV] max_depth=10, n_estimators=600 ..................................\n"
     ]
    },
    {
     "name": "stderr",
     "output_type": "stream",
     "text": [
      "[Parallel(n_jobs=-1)]: Done  10 tasks      | elapsed:  3.5min\n"
     ]
    },
    {
     "ename": "KeyboardInterrupt",
     "evalue": "",
     "output_type": "error",
     "traceback": [
      "\u001b[0;31m---------------------------------------------------------------------------\u001b[0m",
      "\u001b[0;31mKeyboardInterrupt\u001b[0m                         Traceback (most recent call last)",
      "\u001b[0;32m<ipython-input-58-8bf695e6ebc0>\u001b[0m in \u001b[0;36m<module>\u001b[0;34m()\u001b[0m\n\u001b[1;32m      5\u001b[0m                         verbose = 10)\n\u001b[1;32m      6\u001b[0m \u001b[0;34m\u001b[0m\u001b[0m\n\u001b[0;32m----> 7\u001b[0;31m \u001b[0mrmf_clf_grid\u001b[0m\u001b[0;34m.\u001b[0m\u001b[0mfit\u001b[0m\u001b[0;34m(\u001b[0m\u001b[0mX_train\u001b[0m\u001b[0;34m,\u001b[0m\u001b[0my_train\u001b[0m\u001b[0;34m)\u001b[0m\u001b[0;34m\u001b[0m\u001b[0m\n\u001b[0m",
      "\u001b[0;32m~/.local/share/virtualenvs/ml_projects-PtpjDyvs/lib/python3.6/site-packages/sklearn/grid_search.py\u001b[0m in \u001b[0;36mfit\u001b[0;34m(self, X, y)\u001b[0m\n\u001b[1;32m    836\u001b[0m \u001b[0;34m\u001b[0m\u001b[0m\n\u001b[1;32m    837\u001b[0m         \"\"\"\n\u001b[0;32m--> 838\u001b[0;31m         \u001b[0;32mreturn\u001b[0m \u001b[0mself\u001b[0m\u001b[0;34m.\u001b[0m\u001b[0m_fit\u001b[0m\u001b[0;34m(\u001b[0m\u001b[0mX\u001b[0m\u001b[0;34m,\u001b[0m \u001b[0my\u001b[0m\u001b[0;34m,\u001b[0m \u001b[0mParameterGrid\u001b[0m\u001b[0;34m(\u001b[0m\u001b[0mself\u001b[0m\u001b[0;34m.\u001b[0m\u001b[0mparam_grid\u001b[0m\u001b[0;34m)\u001b[0m\u001b[0;34m)\u001b[0m\u001b[0;34m\u001b[0m\u001b[0m\n\u001b[0m\u001b[1;32m    839\u001b[0m \u001b[0;34m\u001b[0m\u001b[0m\n\u001b[1;32m    840\u001b[0m \u001b[0;34m\u001b[0m\u001b[0m\n",
      "\u001b[0;32m~/.local/share/virtualenvs/ml_projects-PtpjDyvs/lib/python3.6/site-packages/sklearn/grid_search.py\u001b[0m in \u001b[0;36m_fit\u001b[0;34m(self, X, y, parameter_iterable)\u001b[0m\n\u001b[1;32m    572\u001b[0m                                     \u001b[0mself\u001b[0m\u001b[0;34m.\u001b[0m\u001b[0mfit_params\u001b[0m\u001b[0;34m,\u001b[0m \u001b[0mreturn_parameters\u001b[0m\u001b[0;34m=\u001b[0m\u001b[0;32mTrue\u001b[0m\u001b[0;34m,\u001b[0m\u001b[0;34m\u001b[0m\u001b[0m\n\u001b[1;32m    573\u001b[0m                                     error_score=self.error_score)\n\u001b[0;32m--> 574\u001b[0;31m                 \u001b[0;32mfor\u001b[0m \u001b[0mparameters\u001b[0m \u001b[0;32min\u001b[0m \u001b[0mparameter_iterable\u001b[0m\u001b[0;34m\u001b[0m\u001b[0m\n\u001b[0m\u001b[1;32m    575\u001b[0m                 for train, test in cv)\n\u001b[1;32m    576\u001b[0m \u001b[0;34m\u001b[0m\u001b[0m\n",
      "\u001b[0;32m~/.local/share/virtualenvs/ml_projects-PtpjDyvs/lib/python3.6/site-packages/sklearn/externals/joblib/parallel.py\u001b[0m in \u001b[0;36m__call__\u001b[0;34m(self, iterable)\u001b[0m\n\u001b[1;32m    787\u001b[0m                 \u001b[0;31m# consumption.\u001b[0m\u001b[0;34m\u001b[0m\u001b[0;34m\u001b[0m\u001b[0m\n\u001b[1;32m    788\u001b[0m                 \u001b[0mself\u001b[0m\u001b[0;34m.\u001b[0m\u001b[0m_iterating\u001b[0m \u001b[0;34m=\u001b[0m \u001b[0;32mFalse\u001b[0m\u001b[0;34m\u001b[0m\u001b[0m\n\u001b[0;32m--> 789\u001b[0;31m             \u001b[0mself\u001b[0m\u001b[0;34m.\u001b[0m\u001b[0mretrieve\u001b[0m\u001b[0;34m(\u001b[0m\u001b[0;34m)\u001b[0m\u001b[0;34m\u001b[0m\u001b[0m\n\u001b[0m\u001b[1;32m    790\u001b[0m             \u001b[0;31m# Make sure that we get a last message telling us we are done\u001b[0m\u001b[0;34m\u001b[0m\u001b[0;34m\u001b[0m\u001b[0m\n\u001b[1;32m    791\u001b[0m             \u001b[0melapsed_time\u001b[0m \u001b[0;34m=\u001b[0m \u001b[0mtime\u001b[0m\u001b[0;34m.\u001b[0m\u001b[0mtime\u001b[0m\u001b[0;34m(\u001b[0m\u001b[0;34m)\u001b[0m \u001b[0;34m-\u001b[0m \u001b[0mself\u001b[0m\u001b[0;34m.\u001b[0m\u001b[0m_start_time\u001b[0m\u001b[0;34m\u001b[0m\u001b[0m\n",
      "\u001b[0;32m~/.local/share/virtualenvs/ml_projects-PtpjDyvs/lib/python3.6/site-packages/sklearn/externals/joblib/parallel.py\u001b[0m in \u001b[0;36mretrieve\u001b[0;34m(self)\u001b[0m\n\u001b[1;32m    697\u001b[0m             \u001b[0;32mtry\u001b[0m\u001b[0;34m:\u001b[0m\u001b[0;34m\u001b[0m\u001b[0m\n\u001b[1;32m    698\u001b[0m                 \u001b[0;32mif\u001b[0m \u001b[0mgetattr\u001b[0m\u001b[0;34m(\u001b[0m\u001b[0mself\u001b[0m\u001b[0;34m.\u001b[0m\u001b[0m_backend\u001b[0m\u001b[0;34m,\u001b[0m \u001b[0;34m'supports_timeout'\u001b[0m\u001b[0;34m,\u001b[0m \u001b[0;32mFalse\u001b[0m\u001b[0;34m)\u001b[0m\u001b[0;34m:\u001b[0m\u001b[0;34m\u001b[0m\u001b[0m\n\u001b[0;32m--> 699\u001b[0;31m                     \u001b[0mself\u001b[0m\u001b[0;34m.\u001b[0m\u001b[0m_output\u001b[0m\u001b[0;34m.\u001b[0m\u001b[0mextend\u001b[0m\u001b[0;34m(\u001b[0m\u001b[0mjob\u001b[0m\u001b[0;34m.\u001b[0m\u001b[0mget\u001b[0m\u001b[0;34m(\u001b[0m\u001b[0mtimeout\u001b[0m\u001b[0;34m=\u001b[0m\u001b[0mself\u001b[0m\u001b[0;34m.\u001b[0m\u001b[0mtimeout\u001b[0m\u001b[0;34m)\u001b[0m\u001b[0;34m)\u001b[0m\u001b[0;34m\u001b[0m\u001b[0m\n\u001b[0m\u001b[1;32m    700\u001b[0m                 \u001b[0;32melse\u001b[0m\u001b[0;34m:\u001b[0m\u001b[0;34m\u001b[0m\u001b[0m\n\u001b[1;32m    701\u001b[0m                     \u001b[0mself\u001b[0m\u001b[0;34m.\u001b[0m\u001b[0m_output\u001b[0m\u001b[0;34m.\u001b[0m\u001b[0mextend\u001b[0m\u001b[0;34m(\u001b[0m\u001b[0mjob\u001b[0m\u001b[0;34m.\u001b[0m\u001b[0mget\u001b[0m\u001b[0;34m(\u001b[0m\u001b[0;34m)\u001b[0m\u001b[0;34m)\u001b[0m\u001b[0;34m\u001b[0m\u001b[0m\n",
      "\u001b[0;32m~/anaconda3/lib/python3.6/multiprocessing/pool.py\u001b[0m in \u001b[0;36mget\u001b[0;34m(self, timeout)\u001b[0m\n\u001b[1;32m    636\u001b[0m \u001b[0;34m\u001b[0m\u001b[0m\n\u001b[1;32m    637\u001b[0m     \u001b[0;32mdef\u001b[0m \u001b[0mget\u001b[0m\u001b[0;34m(\u001b[0m\u001b[0mself\u001b[0m\u001b[0;34m,\u001b[0m \u001b[0mtimeout\u001b[0m\u001b[0;34m=\u001b[0m\u001b[0;32mNone\u001b[0m\u001b[0;34m)\u001b[0m\u001b[0;34m:\u001b[0m\u001b[0;34m\u001b[0m\u001b[0m\n\u001b[0;32m--> 638\u001b[0;31m         \u001b[0mself\u001b[0m\u001b[0;34m.\u001b[0m\u001b[0mwait\u001b[0m\u001b[0;34m(\u001b[0m\u001b[0mtimeout\u001b[0m\u001b[0;34m)\u001b[0m\u001b[0;34m\u001b[0m\u001b[0m\n\u001b[0m\u001b[1;32m    639\u001b[0m         \u001b[0;32mif\u001b[0m \u001b[0;32mnot\u001b[0m \u001b[0mself\u001b[0m\u001b[0;34m.\u001b[0m\u001b[0mready\u001b[0m\u001b[0;34m(\u001b[0m\u001b[0;34m)\u001b[0m\u001b[0;34m:\u001b[0m\u001b[0;34m\u001b[0m\u001b[0m\n\u001b[1;32m    640\u001b[0m             \u001b[0;32mraise\u001b[0m \u001b[0mTimeoutError\u001b[0m\u001b[0;34m\u001b[0m\u001b[0m\n",
      "\u001b[0;32m~/anaconda3/lib/python3.6/multiprocessing/pool.py\u001b[0m in \u001b[0;36mwait\u001b[0;34m(self, timeout)\u001b[0m\n\u001b[1;32m    633\u001b[0m \u001b[0;34m\u001b[0m\u001b[0m\n\u001b[1;32m    634\u001b[0m     \u001b[0;32mdef\u001b[0m \u001b[0mwait\u001b[0m\u001b[0;34m(\u001b[0m\u001b[0mself\u001b[0m\u001b[0;34m,\u001b[0m \u001b[0mtimeout\u001b[0m\u001b[0;34m=\u001b[0m\u001b[0;32mNone\u001b[0m\u001b[0;34m)\u001b[0m\u001b[0;34m:\u001b[0m\u001b[0;34m\u001b[0m\u001b[0m\n\u001b[0;32m--> 635\u001b[0;31m         \u001b[0mself\u001b[0m\u001b[0;34m.\u001b[0m\u001b[0m_event\u001b[0m\u001b[0;34m.\u001b[0m\u001b[0mwait\u001b[0m\u001b[0;34m(\u001b[0m\u001b[0mtimeout\u001b[0m\u001b[0;34m)\u001b[0m\u001b[0;34m\u001b[0m\u001b[0m\n\u001b[0m\u001b[1;32m    636\u001b[0m \u001b[0;34m\u001b[0m\u001b[0m\n\u001b[1;32m    637\u001b[0m     \u001b[0;32mdef\u001b[0m \u001b[0mget\u001b[0m\u001b[0;34m(\u001b[0m\u001b[0mself\u001b[0m\u001b[0;34m,\u001b[0m \u001b[0mtimeout\u001b[0m\u001b[0;34m=\u001b[0m\u001b[0;32mNone\u001b[0m\u001b[0;34m)\u001b[0m\u001b[0;34m:\u001b[0m\u001b[0;34m\u001b[0m\u001b[0m\n",
      "\u001b[0;32m~/anaconda3/lib/python3.6/threading.py\u001b[0m in \u001b[0;36mwait\u001b[0;34m(self, timeout)\u001b[0m\n\u001b[1;32m    549\u001b[0m             \u001b[0msignaled\u001b[0m \u001b[0;34m=\u001b[0m \u001b[0mself\u001b[0m\u001b[0;34m.\u001b[0m\u001b[0m_flag\u001b[0m\u001b[0;34m\u001b[0m\u001b[0m\n\u001b[1;32m    550\u001b[0m             \u001b[0;32mif\u001b[0m \u001b[0;32mnot\u001b[0m \u001b[0msignaled\u001b[0m\u001b[0;34m:\u001b[0m\u001b[0;34m\u001b[0m\u001b[0m\n\u001b[0;32m--> 551\u001b[0;31m                 \u001b[0msignaled\u001b[0m \u001b[0;34m=\u001b[0m \u001b[0mself\u001b[0m\u001b[0;34m.\u001b[0m\u001b[0m_cond\u001b[0m\u001b[0;34m.\u001b[0m\u001b[0mwait\u001b[0m\u001b[0;34m(\u001b[0m\u001b[0mtimeout\u001b[0m\u001b[0;34m)\u001b[0m\u001b[0;34m\u001b[0m\u001b[0m\n\u001b[0m\u001b[1;32m    552\u001b[0m             \u001b[0;32mreturn\u001b[0m \u001b[0msignaled\u001b[0m\u001b[0;34m\u001b[0m\u001b[0m\n\u001b[1;32m    553\u001b[0m \u001b[0;34m\u001b[0m\u001b[0m\n",
      "\u001b[0;32m~/anaconda3/lib/python3.6/threading.py\u001b[0m in \u001b[0;36mwait\u001b[0;34m(self, timeout)\u001b[0m\n\u001b[1;32m    293\u001b[0m         \u001b[0;32mtry\u001b[0m\u001b[0;34m:\u001b[0m    \u001b[0;31m# restore state no matter what (e.g., KeyboardInterrupt)\u001b[0m\u001b[0;34m\u001b[0m\u001b[0m\n\u001b[1;32m    294\u001b[0m             \u001b[0;32mif\u001b[0m \u001b[0mtimeout\u001b[0m \u001b[0;32mis\u001b[0m \u001b[0;32mNone\u001b[0m\u001b[0;34m:\u001b[0m\u001b[0;34m\u001b[0m\u001b[0m\n\u001b[0;32m--> 295\u001b[0;31m                 \u001b[0mwaiter\u001b[0m\u001b[0;34m.\u001b[0m\u001b[0macquire\u001b[0m\u001b[0;34m(\u001b[0m\u001b[0;34m)\u001b[0m\u001b[0;34m\u001b[0m\u001b[0m\n\u001b[0m\u001b[1;32m    296\u001b[0m                 \u001b[0mgotit\u001b[0m \u001b[0;34m=\u001b[0m \u001b[0;32mTrue\u001b[0m\u001b[0;34m\u001b[0m\u001b[0m\n\u001b[1;32m    297\u001b[0m             \u001b[0;32melse\u001b[0m\u001b[0;34m:\u001b[0m\u001b[0;34m\u001b[0m\u001b[0m\n",
      "\u001b[0;31mKeyboardInterrupt\u001b[0m: "
     ]
    }
   ],
   "source": [
    "rmf_clf_grid = GridSearchCV(estimator=rnf_clf, \n",
    "                        param_grid=param_grid,\n",
    "                        n_jobs=-1, \n",
    "                        scoring='accuracy',\n",
    "                        verbose = 10)\n",
    "\n",
    "rmf_clf_grid.fit(X_train,y_train)"
   ]
  },
  {
   "cell_type": "markdown",
   "metadata": {},
   "source": [
    "**SVM**"
   ]
  },
  {
   "cell_type": "code",
   "execution_count": 64,
   "metadata": {},
   "outputs": [
    {
     "name": "stdout",
     "output_type": "stream",
     "text": [
      "[CV]  ................................................................\n",
      "[CV] ....................... , score=0.9318318154550908, total= 7.5min\n",
      "[CV]  ................................................................\n"
     ]
    },
    {
     "name": "stderr",
     "output_type": "stream",
     "text": [
      "[Parallel(n_jobs=1)]: Done   1 out of   1 | elapsed:  7.5min remaining:    0.0s\n"
     ]
    },
    {
     "name": "stdout",
     "output_type": "stream",
     "text": [
      "[CV] ........................ , score=0.930780559646539, total= 7.5min\n",
      "[CV]  ................................................................\n"
     ]
    },
    {
     "name": "stderr",
     "output_type": "stream",
     "text": [
      "[Parallel(n_jobs=1)]: Done   2 out of   2 | elapsed: 15.0min remaining:    0.0s\n"
     ]
    },
    {
     "name": "stdout",
     "output_type": "stream",
     "text": [
      "[CV] ....................... , score=0.9353518821603928, total= 7.8min\n"
     ]
    },
    {
     "name": "stderr",
     "output_type": "stream",
     "text": [
      "[Parallel(n_jobs=1)]: Done   3 out of   3 | elapsed: 22.8min remaining:    0.0s\n",
      "[Parallel(n_jobs=1)]: Done   3 out of   3 | elapsed: 22.8min finished\n"
     ]
    }
   ],
   "source": [
    "sv_clf = SVC(random_state = seed)\n",
    "\n",
    "sv_scores = cross_val_score(sv_clf,\n",
    "                          X_train,\n",
    "                          y_train,\n",
    "                          cv = 3,\n",
    "                          scoring = \"accuracy\",\n",
    "                          verbose = 10\n",
    "                         )"
   ]
  },
  {
   "cell_type": "code",
   "execution_count": 65,
   "metadata": {},
   "outputs": [
    {
     "name": "stdout",
     "output_type": "stream",
     "text": [
      "Support Vector Classifer scores: [0.932 0.931 0.935]\n",
      "Support Vector Classifer mean: 0.933\n",
      "Support Vector Classifer devation: 0.002\n"
     ]
    }
   ],
   "source": [
    "print(\"Support Vector Classifer scores: {}\\n\\\n",
    "Support Vector Classifer mean: {}\\n\\\n",
    "Support Vector Classifer devation: {}\".format(\n",
    "                np.round(sv_scores, decimals = 3),\n",
    "                np.round(np.mean(sv_scores), decimals = 3),\n",
    "                np.round(np.std(sv_scores), decimals = 3)\n",
    "    ))"
   ]
  },
  {
   "cell_type": "code",
   "execution_count": 66,
   "metadata": {},
   "outputs": [
    {
     "name": "stdout",
     "output_type": "stream",
     "text": [
      "[CV]  ................................................................\n",
      "[CV] ....................... , score=0.9072912690189235, total=  56.0s\n",
      "[CV]  ................................................................\n"
     ]
    },
    {
     "name": "stderr",
     "output_type": "stream",
     "text": [
      "[Parallel(n_jobs=1)]: Done   1 out of   1 | elapsed:   56.0s remaining:    0.0s\n"
     ]
    },
    {
     "name": "stdout",
     "output_type": "stream",
     "text": [
      "[CV] ....................... , score=0.9062892052582774, total=  57.4s\n",
      "[CV]  ................................................................\n"
     ]
    },
    {
     "name": "stderr",
     "output_type": "stream",
     "text": [
      "[Parallel(n_jobs=1)]: Done   2 out of   2 | elapsed:  1.9min remaining:    0.0s\n"
     ]
    },
    {
     "name": "stdout",
     "output_type": "stream",
     "text": [
      "[CV] ........................ , score=0.911620294599018, total=  59.7s\n"
     ]
    },
    {
     "name": "stderr",
     "output_type": "stream",
     "text": [
      "[Parallel(n_jobs=1)]: Done   3 out of   3 | elapsed:  2.9min remaining:    0.0s\n",
      "[Parallel(n_jobs=1)]: Done   3 out of   3 | elapsed:  2.9min finished\n"
     ]
    }
   ],
   "source": [
    "lsv_clf = LinearSVC(random_state = seed)\n",
    "\n",
    "lsv_scores = cross_val_score(lsv_clf,\n",
    "                          X_train,\n",
    "                          y_train,\n",
    "                          cv = 3,\n",
    "                          scoring = \"accuracy\",\n",
    "                          verbose = 10\n",
    "                         )"
   ]
  },
  {
   "cell_type": "code",
   "execution_count": 67,
   "metadata": {},
   "outputs": [
    {
     "name": "stdout",
     "output_type": "stream",
     "text": [
      "Support Vector Classifer scores: [0.907 0.906 0.912]\n",
      "Support Vector Classifer mean: 0.908\n",
      "Support Vector Classifer devation: 0.002\n"
     ]
    }
   ],
   "source": [
    "print(\"Linear Support Vector Classifer scores: {}\\n\\\n",
    "Linear Support Vector Classifer mean: {}\\n\\\n",
    "Linear Support Vector Classifer devation: {}\".format(\n",
    "                np.round(lsv_scores, decimals = 3),\n",
    "                np.round(np.mean(lsv_scores), decimals = 3),\n",
    "                np.round(np.std(lsv_scores), decimals = 3)\n",
    "    ))"
   ]
  },
  {
   "cell_type": "code",
   "execution_count": 75,
   "metadata": {},
   "outputs": [
    {
     "name": "stdout",
     "output_type": "stream",
     "text": [
      "[CV]  ................................................................\n",
      "Fitting 3 folds for each of 9 candidates, totalling 27 fits\n",
      "[CV] radius=10 .......................................................\n",
      "[CV] radius=10 .......................................................\n",
      "[CV] radius=10 .......................................................\n",
      "[CV] radius=20 .......................................................\n",
      "[CV] .............................. radius=10, score=0.421139 -29.2min\n",
      "[CV] radius=20 .......................................................\n",
      "[CV] .............................. radius=10, score=0.433459 -29.4min\n",
      "[CV] radius=20 .......................................................\n",
      "[CV] .............................. radius=20, score=0.112375 -17.2min\n",
      "[CV] radius=30 .......................................................\n",
      "[CV] .............................. radius=30, score=0.112320 - 4.6min\n",
      "[CV] radius=30 .......................................................\n",
      "[CV] .............................. radius=30, score=0.112348 - 4.4min\n",
      "[CV] radius=30 .......................................................\n"
     ]
    },
    {
     "name": "stderr",
     "output_type": "stream",
     "text": [
      "[Parallel(n_jobs=-1)]: Done   5 tasks      | elapsed: 55.5min\n"
     ]
    },
    {
     "name": "stdout",
     "output_type": "stream",
     "text": [
      "[CV] .............................. radius=30, score=0.112375 - 4.4min\n",
      "[CV] radius=40 .......................................................\n",
      "[CV] .............................. radius=40, score=0.112320 - 4.5min\n",
      "[CV] radius=40 .......................................................\n",
      "[CV] .............................. radius=40, score=0.112348 - 4.4min\n",
      "[CV] radius=40 .......................................................\n",
      "[CV] .............................. radius=40, score=0.112375 - 4.4min\n",
      "[CV] radius=50 .......................................................\n",
      "[CV] .............................. radius=50, score=0.112320 - 4.5min\n",
      "[CV] radius=50 .......................................................\n"
     ]
    },
    {
     "name": "stderr",
     "output_type": "stream",
     "text": [
      "[Parallel(n_jobs=-1)]: Done  10 tasks      | elapsed: 77.6min\n"
     ]
    },
    {
     "name": "stdout",
     "output_type": "stream",
     "text": [
      "[CV] .............................. radius=50, score=0.112348 - 4.5min\n",
      "[CV] radius=50 .......................................................\n",
      "[CV] .............................. radius=50, score=0.112375 - 4.4min\n",
      "[CV] radius=60 .......................................................\n",
      "[CV] .............................. radius=60, score=0.112320 - 4.5min\n",
      "[CV] radius=60 .......................................................\n",
      "[CV] .............................. radius=60, score=0.112348 - 4.4min\n",
      "[CV] radius=60 .......................................................\n",
      "[CV] .............................. radius=60, score=0.112375 - 4.4min\n",
      "[CV] radius=70 .......................................................\n",
      "[CV] .............................. radius=70, score=0.112320 - 4.3min\n",
      "[CV] radius=70 .......................................................\n",
      "[CV] .............................. radius=70, score=0.112348 - 4.3min\n",
      "[CV] radius=70 .......................................................\n"
     ]
    },
    {
     "name": "stderr",
     "output_type": "stream",
     "text": [
      "[Parallel(n_jobs=-1)]: Done  17 tasks      | elapsed: 108.4min\n"
     ]
    },
    {
     "name": "stdout",
     "output_type": "stream",
     "text": [
      "[CV] .............................. radius=70, score=0.112375 - 4.3min\n",
      "[CV] radius=80 .......................................................\n",
      "[CV] .............................. radius=80, score=0.112320 - 4.3min\n",
      "[CV] radius=80 .......................................................\n",
      "[CV] .............................. radius=80, score=0.112348 - 4.4min\n",
      "[CV] radius=80 .......................................................\n",
      "[CV] .............................. radius=80, score=0.112375 - 4.4min\n",
      "[CV] radius=90 .......................................................\n",
      "[CV] .............................. radius=90, score=0.112320 - 4.4min\n",
      "[CV] radius=90 .......................................................\n",
      "[CV] .............................. radius=90, score=0.112348 - 4.3min\n",
      "[CV] radius=90 .......................................................\n"
     ]
    },
    {
     "name": "stderr",
     "output_type": "stream",
     "text": [
      "[Parallel(n_jobs=-1)]: Done  23 out of  27 | elapsed: 134.4min remaining: 23.4min\n"
     ]
    },
    {
     "name": "stdout",
     "output_type": "stream",
     "text": [
      "[CV] .............................. radius=90, score=0.112375 - 4.3min\n"
     ]
    },
    {
     "name": "stderr",
     "output_type": "stream",
     "text": [
      "Process ForkPoolWorker-51:\n",
      "Traceback (most recent call last):\n",
      "  File \"/home/edd/anaconda3/lib/python3.6/multiprocessing/process.py\", line 258, in _bootstrap\n",
      "    self.run()\n",
      "  File \"/home/edd/anaconda3/lib/python3.6/multiprocessing/process.py\", line 93, in run\n",
      "    self._target(*self._args, **self._kwargs)\n",
      "  File \"/home/edd/anaconda3/lib/python3.6/multiprocessing/pool.py\", line 108, in worker\n",
      "    task = get()\n",
      "  File \"/home/edd/.local/share/virtualenvs/ml_projects-PtpjDyvs/lib/python3.6/site-packages/sklearn/externals/joblib/pool.py\", line 362, in get\n",
      "    return recv()\n",
      "  File \"/home/edd/anaconda3/lib/python3.6/multiprocessing/connection.py\", line 250, in recv\n",
      "    buf = self._recv_bytes()\n",
      "  File \"/home/edd/anaconda3/lib/python3.6/multiprocessing/connection.py\", line 407, in _recv_bytes\n",
      "    buf = self._recv(4)\n"
     ]
    },
    {
     "ename": "KeyboardInterrupt",
     "evalue": "",
     "output_type": "error",
     "traceback": [
      "\u001b[0;31m---------------------------------------------------------------------------\u001b[0m",
      "\u001b[0;31mKeyboardInterrupt\u001b[0m                         Traceback (most recent call last)",
      "\u001b[0;32m<ipython-input-75-049b618685af>\u001b[0m in \u001b[0;36m<module>\u001b[0;34m()\u001b[0m\n\u001b[1;32m     15\u001b[0m                           \u001b[0mcv\u001b[0m \u001b[0;34m=\u001b[0m \u001b[0;36m3\u001b[0m\u001b[0;34m,\u001b[0m\u001b[0;34m\u001b[0m\u001b[0m\n\u001b[1;32m     16\u001b[0m                           \u001b[0mscoring\u001b[0m \u001b[0;34m=\u001b[0m \u001b[0;34m\"accuracy\"\u001b[0m\u001b[0;34m,\u001b[0m\u001b[0;34m\u001b[0m\u001b[0m\n\u001b[0;32m---> 17\u001b[0;31m                           \u001b[0mverbose\u001b[0m \u001b[0;34m=\u001b[0m \u001b[0;36m10\u001b[0m\u001b[0;34m\u001b[0m\u001b[0m\n\u001b[0m\u001b[1;32m     18\u001b[0m                          )\n",
      "\u001b[0;32m~/.local/share/virtualenvs/ml_projects-PtpjDyvs/lib/python3.6/site-packages/sklearn/model_selection/_validation.py\u001b[0m in \u001b[0;36mcross_val_score\u001b[0;34m(estimator, X, y, groups, scoring, cv, n_jobs, verbose, fit_params, pre_dispatch)\u001b[0m\n\u001b[1;32m    340\u001b[0m                                 \u001b[0mn_jobs\u001b[0m\u001b[0;34m=\u001b[0m\u001b[0mn_jobs\u001b[0m\u001b[0;34m,\u001b[0m \u001b[0mverbose\u001b[0m\u001b[0;34m=\u001b[0m\u001b[0mverbose\u001b[0m\u001b[0;34m,\u001b[0m\u001b[0;34m\u001b[0m\u001b[0m\n\u001b[1;32m    341\u001b[0m                                 \u001b[0mfit_params\u001b[0m\u001b[0;34m=\u001b[0m\u001b[0mfit_params\u001b[0m\u001b[0;34m,\u001b[0m\u001b[0;34m\u001b[0m\u001b[0m\n\u001b[0;32m--> 342\u001b[0;31m                                 pre_dispatch=pre_dispatch)\n\u001b[0m\u001b[1;32m    343\u001b[0m     \u001b[0;32mreturn\u001b[0m \u001b[0mcv_results\u001b[0m\u001b[0;34m[\u001b[0m\u001b[0;34m'test_score'\u001b[0m\u001b[0;34m]\u001b[0m\u001b[0;34m\u001b[0m\u001b[0m\n\u001b[1;32m    344\u001b[0m \u001b[0;34m\u001b[0m\u001b[0m\n",
      "\u001b[0;32m~/.local/share/virtualenvs/ml_projects-PtpjDyvs/lib/python3.6/site-packages/sklearn/model_selection/_validation.py\u001b[0m in \u001b[0;36mcross_validate\u001b[0;34m(estimator, X, y, groups, scoring, cv, n_jobs, verbose, fit_params, pre_dispatch, return_train_score)\u001b[0m\n\u001b[1;32m    204\u001b[0m             \u001b[0mfit_params\u001b[0m\u001b[0;34m,\u001b[0m \u001b[0mreturn_train_score\u001b[0m\u001b[0;34m=\u001b[0m\u001b[0mreturn_train_score\u001b[0m\u001b[0;34m,\u001b[0m\u001b[0;34m\u001b[0m\u001b[0m\n\u001b[1;32m    205\u001b[0m             return_times=True)\n\u001b[0;32m--> 206\u001b[0;31m         for train, test in cv.split(X, y, groups))\n\u001b[0m\u001b[1;32m    207\u001b[0m \u001b[0;34m\u001b[0m\u001b[0m\n\u001b[1;32m    208\u001b[0m     \u001b[0;32mif\u001b[0m \u001b[0mreturn_train_score\u001b[0m\u001b[0;34m:\u001b[0m\u001b[0;34m\u001b[0m\u001b[0m\n",
      "\u001b[0;32m~/.local/share/virtualenvs/ml_projects-PtpjDyvs/lib/python3.6/site-packages/sklearn/externals/joblib/parallel.py\u001b[0m in \u001b[0;36m__call__\u001b[0;34m(self, iterable)\u001b[0m\n\u001b[1;32m    777\u001b[0m             \u001b[0;31m# was dispatched. In particular this covers the edge\u001b[0m\u001b[0;34m\u001b[0m\u001b[0;34m\u001b[0m\u001b[0m\n\u001b[1;32m    778\u001b[0m             \u001b[0;31m# case of Parallel used with an exhausted iterator.\u001b[0m\u001b[0;34m\u001b[0m\u001b[0;34m\u001b[0m\u001b[0m\n\u001b[0;32m--> 779\u001b[0;31m             \u001b[0;32mwhile\u001b[0m \u001b[0mself\u001b[0m\u001b[0;34m.\u001b[0m\u001b[0mdispatch_one_batch\u001b[0m\u001b[0;34m(\u001b[0m\u001b[0miterator\u001b[0m\u001b[0;34m)\u001b[0m\u001b[0;34m:\u001b[0m\u001b[0;34m\u001b[0m\u001b[0m\n\u001b[0m\u001b[1;32m    780\u001b[0m                 \u001b[0mself\u001b[0m\u001b[0;34m.\u001b[0m\u001b[0m_iterating\u001b[0m \u001b[0;34m=\u001b[0m \u001b[0;32mTrue\u001b[0m\u001b[0;34m\u001b[0m\u001b[0m\n\u001b[1;32m    781\u001b[0m             \u001b[0;32melse\u001b[0m\u001b[0;34m:\u001b[0m\u001b[0;34m\u001b[0m\u001b[0m\n",
      "\u001b[0;32m~/.local/share/virtualenvs/ml_projects-PtpjDyvs/lib/python3.6/site-packages/sklearn/externals/joblib/parallel.py\u001b[0m in \u001b[0;36mdispatch_one_batch\u001b[0;34m(self, iterator)\u001b[0m\n\u001b[1;32m    623\u001b[0m                 \u001b[0;32mreturn\u001b[0m \u001b[0;32mFalse\u001b[0m\u001b[0;34m\u001b[0m\u001b[0m\n\u001b[1;32m    624\u001b[0m             \u001b[0;32melse\u001b[0m\u001b[0;34m:\u001b[0m\u001b[0;34m\u001b[0m\u001b[0m\n\u001b[0;32m--> 625\u001b[0;31m                 \u001b[0mself\u001b[0m\u001b[0;34m.\u001b[0m\u001b[0m_dispatch\u001b[0m\u001b[0;34m(\u001b[0m\u001b[0mtasks\u001b[0m\u001b[0;34m)\u001b[0m\u001b[0;34m\u001b[0m\u001b[0m\n\u001b[0m\u001b[1;32m    626\u001b[0m                 \u001b[0;32mreturn\u001b[0m \u001b[0;32mTrue\u001b[0m\u001b[0;34m\u001b[0m\u001b[0m\n\u001b[1;32m    627\u001b[0m \u001b[0;34m\u001b[0m\u001b[0m\n",
      "\u001b[0;32m~/.local/share/virtualenvs/ml_projects-PtpjDyvs/lib/python3.6/site-packages/sklearn/externals/joblib/parallel.py\u001b[0m in \u001b[0;36m_dispatch\u001b[0;34m(self, batch)\u001b[0m\n\u001b[1;32m    586\u001b[0m         \u001b[0mdispatch_timestamp\u001b[0m \u001b[0;34m=\u001b[0m \u001b[0mtime\u001b[0m\u001b[0;34m.\u001b[0m\u001b[0mtime\u001b[0m\u001b[0;34m(\u001b[0m\u001b[0;34m)\u001b[0m\u001b[0;34m\u001b[0m\u001b[0m\n\u001b[1;32m    587\u001b[0m         \u001b[0mcb\u001b[0m \u001b[0;34m=\u001b[0m \u001b[0mBatchCompletionCallBack\u001b[0m\u001b[0;34m(\u001b[0m\u001b[0mdispatch_timestamp\u001b[0m\u001b[0;34m,\u001b[0m \u001b[0mlen\u001b[0m\u001b[0;34m(\u001b[0m\u001b[0mbatch\u001b[0m\u001b[0;34m)\u001b[0m\u001b[0;34m,\u001b[0m \u001b[0mself\u001b[0m\u001b[0;34m)\u001b[0m\u001b[0;34m\u001b[0m\u001b[0m\n\u001b[0;32m--> 588\u001b[0;31m         \u001b[0mjob\u001b[0m \u001b[0;34m=\u001b[0m \u001b[0mself\u001b[0m\u001b[0;34m.\u001b[0m\u001b[0m_backend\u001b[0m\u001b[0;34m.\u001b[0m\u001b[0mapply_async\u001b[0m\u001b[0;34m(\u001b[0m\u001b[0mbatch\u001b[0m\u001b[0;34m,\u001b[0m \u001b[0mcallback\u001b[0m\u001b[0;34m=\u001b[0m\u001b[0mcb\u001b[0m\u001b[0;34m)\u001b[0m\u001b[0;34m\u001b[0m\u001b[0m\n\u001b[0m\u001b[1;32m    589\u001b[0m         \u001b[0mself\u001b[0m\u001b[0;34m.\u001b[0m\u001b[0m_jobs\u001b[0m\u001b[0;34m.\u001b[0m\u001b[0mappend\u001b[0m\u001b[0;34m(\u001b[0m\u001b[0mjob\u001b[0m\u001b[0;34m)\u001b[0m\u001b[0;34m\u001b[0m\u001b[0m\n\u001b[1;32m    590\u001b[0m \u001b[0;34m\u001b[0m\u001b[0m\n",
      "\u001b[0;32m~/.local/share/virtualenvs/ml_projects-PtpjDyvs/lib/python3.6/site-packages/sklearn/externals/joblib/_parallel_backends.py\u001b[0m in \u001b[0;36mapply_async\u001b[0;34m(self, func, callback)\u001b[0m\n\u001b[1;32m    109\u001b[0m     \u001b[0;32mdef\u001b[0m \u001b[0mapply_async\u001b[0m\u001b[0;34m(\u001b[0m\u001b[0mself\u001b[0m\u001b[0;34m,\u001b[0m \u001b[0mfunc\u001b[0m\u001b[0;34m,\u001b[0m \u001b[0mcallback\u001b[0m\u001b[0;34m=\u001b[0m\u001b[0;32mNone\u001b[0m\u001b[0;34m)\u001b[0m\u001b[0;34m:\u001b[0m\u001b[0;34m\u001b[0m\u001b[0m\n\u001b[1;32m    110\u001b[0m         \u001b[0;34m\"\"\"Schedule a func to be run\"\"\"\u001b[0m\u001b[0;34m\u001b[0m\u001b[0m\n\u001b[0;32m--> 111\u001b[0;31m         \u001b[0mresult\u001b[0m \u001b[0;34m=\u001b[0m \u001b[0mImmediateResult\u001b[0m\u001b[0;34m(\u001b[0m\u001b[0mfunc\u001b[0m\u001b[0;34m)\u001b[0m\u001b[0;34m\u001b[0m\u001b[0m\n\u001b[0m\u001b[1;32m    112\u001b[0m         \u001b[0;32mif\u001b[0m \u001b[0mcallback\u001b[0m\u001b[0;34m:\u001b[0m\u001b[0;34m\u001b[0m\u001b[0m\n\u001b[1;32m    113\u001b[0m             \u001b[0mcallback\u001b[0m\u001b[0;34m(\u001b[0m\u001b[0mresult\u001b[0m\u001b[0;34m)\u001b[0m\u001b[0;34m\u001b[0m\u001b[0m\n",
      "\u001b[0;32m~/.local/share/virtualenvs/ml_projects-PtpjDyvs/lib/python3.6/site-packages/sklearn/externals/joblib/_parallel_backends.py\u001b[0m in \u001b[0;36m__init__\u001b[0;34m(self, batch)\u001b[0m\n\u001b[1;32m    330\u001b[0m         \u001b[0;31m# Don't delay the application, to avoid keeping the input\u001b[0m\u001b[0;34m\u001b[0m\u001b[0;34m\u001b[0m\u001b[0m\n\u001b[1;32m    331\u001b[0m         \u001b[0;31m# arguments in memory\u001b[0m\u001b[0;34m\u001b[0m\u001b[0;34m\u001b[0m\u001b[0m\n\u001b[0;32m--> 332\u001b[0;31m         \u001b[0mself\u001b[0m\u001b[0;34m.\u001b[0m\u001b[0mresults\u001b[0m \u001b[0;34m=\u001b[0m \u001b[0mbatch\u001b[0m\u001b[0;34m(\u001b[0m\u001b[0;34m)\u001b[0m\u001b[0;34m\u001b[0m\u001b[0m\n\u001b[0m\u001b[1;32m    333\u001b[0m \u001b[0;34m\u001b[0m\u001b[0m\n\u001b[1;32m    334\u001b[0m     \u001b[0;32mdef\u001b[0m \u001b[0mget\u001b[0m\u001b[0;34m(\u001b[0m\u001b[0mself\u001b[0m\u001b[0;34m)\u001b[0m\u001b[0;34m:\u001b[0m\u001b[0;34m\u001b[0m\u001b[0m\n",
      "\u001b[0;32m~/.local/share/virtualenvs/ml_projects-PtpjDyvs/lib/python3.6/site-packages/sklearn/externals/joblib/parallel.py\u001b[0m in \u001b[0;36m__call__\u001b[0;34m(self)\u001b[0m\n\u001b[1;32m    129\u001b[0m \u001b[0;34m\u001b[0m\u001b[0m\n\u001b[1;32m    130\u001b[0m     \u001b[0;32mdef\u001b[0m \u001b[0m__call__\u001b[0m\u001b[0;34m(\u001b[0m\u001b[0mself\u001b[0m\u001b[0;34m)\u001b[0m\u001b[0;34m:\u001b[0m\u001b[0;34m\u001b[0m\u001b[0m\n\u001b[0;32m--> 131\u001b[0;31m         \u001b[0;32mreturn\u001b[0m \u001b[0;34m[\u001b[0m\u001b[0mfunc\u001b[0m\u001b[0;34m(\u001b[0m\u001b[0;34m*\u001b[0m\u001b[0margs\u001b[0m\u001b[0;34m,\u001b[0m \u001b[0;34m**\u001b[0m\u001b[0mkwargs\u001b[0m\u001b[0;34m)\u001b[0m \u001b[0;32mfor\u001b[0m \u001b[0mfunc\u001b[0m\u001b[0;34m,\u001b[0m \u001b[0margs\u001b[0m\u001b[0;34m,\u001b[0m \u001b[0mkwargs\u001b[0m \u001b[0;32min\u001b[0m \u001b[0mself\u001b[0m\u001b[0;34m.\u001b[0m\u001b[0mitems\u001b[0m\u001b[0;34m]\u001b[0m\u001b[0;34m\u001b[0m\u001b[0m\n\u001b[0m\u001b[1;32m    132\u001b[0m \u001b[0;34m\u001b[0m\u001b[0m\n\u001b[1;32m    133\u001b[0m     \u001b[0;32mdef\u001b[0m \u001b[0m__len__\u001b[0m\u001b[0;34m(\u001b[0m\u001b[0mself\u001b[0m\u001b[0;34m)\u001b[0m\u001b[0;34m:\u001b[0m\u001b[0;34m\u001b[0m\u001b[0m\n",
      "\u001b[0;32m~/.local/share/virtualenvs/ml_projects-PtpjDyvs/lib/python3.6/site-packages/sklearn/externals/joblib/parallel.py\u001b[0m in \u001b[0;36m<listcomp>\u001b[0;34m(.0)\u001b[0m\n\u001b[1;32m    129\u001b[0m \u001b[0;34m\u001b[0m\u001b[0m\n\u001b[1;32m    130\u001b[0m     \u001b[0;32mdef\u001b[0m \u001b[0m__call__\u001b[0m\u001b[0;34m(\u001b[0m\u001b[0mself\u001b[0m\u001b[0;34m)\u001b[0m\u001b[0;34m:\u001b[0m\u001b[0;34m\u001b[0m\u001b[0m\n\u001b[0;32m--> 131\u001b[0;31m         \u001b[0;32mreturn\u001b[0m \u001b[0;34m[\u001b[0m\u001b[0mfunc\u001b[0m\u001b[0;34m(\u001b[0m\u001b[0;34m*\u001b[0m\u001b[0margs\u001b[0m\u001b[0;34m,\u001b[0m \u001b[0;34m**\u001b[0m\u001b[0mkwargs\u001b[0m\u001b[0;34m)\u001b[0m \u001b[0;32mfor\u001b[0m \u001b[0mfunc\u001b[0m\u001b[0;34m,\u001b[0m \u001b[0margs\u001b[0m\u001b[0;34m,\u001b[0m \u001b[0mkwargs\u001b[0m \u001b[0;32min\u001b[0m \u001b[0mself\u001b[0m\u001b[0;34m.\u001b[0m\u001b[0mitems\u001b[0m\u001b[0;34m]\u001b[0m\u001b[0;34m\u001b[0m\u001b[0m\n\u001b[0m\u001b[1;32m    132\u001b[0m \u001b[0;34m\u001b[0m\u001b[0m\n\u001b[1;32m    133\u001b[0m     \u001b[0;32mdef\u001b[0m \u001b[0m__len__\u001b[0m\u001b[0;34m(\u001b[0m\u001b[0mself\u001b[0m\u001b[0;34m)\u001b[0m\u001b[0;34m:\u001b[0m\u001b[0;34m\u001b[0m\u001b[0m\n",
      "\u001b[0;32m~/.local/share/virtualenvs/ml_projects-PtpjDyvs/lib/python3.6/site-packages/sklearn/model_selection/_validation.py\u001b[0m in \u001b[0;36m_fit_and_score\u001b[0;34m(estimator, X, y, scorer, train, test, verbose, parameters, fit_params, return_train_score, return_parameters, return_n_test_samples, return_times, error_score)\u001b[0m\n\u001b[1;32m    456\u001b[0m             \u001b[0mestimator\u001b[0m\u001b[0;34m.\u001b[0m\u001b[0mfit\u001b[0m\u001b[0;34m(\u001b[0m\u001b[0mX_train\u001b[0m\u001b[0;34m,\u001b[0m \u001b[0;34m**\u001b[0m\u001b[0mfit_params\u001b[0m\u001b[0;34m)\u001b[0m\u001b[0;34m\u001b[0m\u001b[0m\n\u001b[1;32m    457\u001b[0m         \u001b[0;32melse\u001b[0m\u001b[0;34m:\u001b[0m\u001b[0;34m\u001b[0m\u001b[0m\n\u001b[0;32m--> 458\u001b[0;31m             \u001b[0mestimator\u001b[0m\u001b[0;34m.\u001b[0m\u001b[0mfit\u001b[0m\u001b[0;34m(\u001b[0m\u001b[0mX_train\u001b[0m\u001b[0;34m,\u001b[0m \u001b[0my_train\u001b[0m\u001b[0;34m,\u001b[0m \u001b[0;34m**\u001b[0m\u001b[0mfit_params\u001b[0m\u001b[0;34m)\u001b[0m\u001b[0;34m\u001b[0m\u001b[0m\n\u001b[0m\u001b[1;32m    459\u001b[0m \u001b[0;34m\u001b[0m\u001b[0m\n\u001b[1;32m    460\u001b[0m     \u001b[0;32mexcept\u001b[0m \u001b[0mException\u001b[0m \u001b[0;32mas\u001b[0m \u001b[0me\u001b[0m\u001b[0;34m:\u001b[0m\u001b[0;34m\u001b[0m\u001b[0m\n",
      "\u001b[0;32m~/.local/share/virtualenvs/ml_projects-PtpjDyvs/lib/python3.6/site-packages/sklearn/grid_search.py\u001b[0m in \u001b[0;36mfit\u001b[0;34m(self, X, y)\u001b[0m\n\u001b[1;32m    836\u001b[0m \u001b[0;34m\u001b[0m\u001b[0m\n\u001b[1;32m    837\u001b[0m         \"\"\"\n\u001b[0;32m--> 838\u001b[0;31m         \u001b[0;32mreturn\u001b[0m \u001b[0mself\u001b[0m\u001b[0;34m.\u001b[0m\u001b[0m_fit\u001b[0m\u001b[0;34m(\u001b[0m\u001b[0mX\u001b[0m\u001b[0;34m,\u001b[0m \u001b[0my\u001b[0m\u001b[0;34m,\u001b[0m \u001b[0mParameterGrid\u001b[0m\u001b[0;34m(\u001b[0m\u001b[0mself\u001b[0m\u001b[0;34m.\u001b[0m\u001b[0mparam_grid\u001b[0m\u001b[0;34m)\u001b[0m\u001b[0;34m)\u001b[0m\u001b[0;34m\u001b[0m\u001b[0m\n\u001b[0m\u001b[1;32m    839\u001b[0m \u001b[0;34m\u001b[0m\u001b[0m\n\u001b[1;32m    840\u001b[0m \u001b[0;34m\u001b[0m\u001b[0m\n",
      "\u001b[0;32m~/.local/share/virtualenvs/ml_projects-PtpjDyvs/lib/python3.6/site-packages/sklearn/grid_search.py\u001b[0m in \u001b[0;36m_fit\u001b[0;34m(self, X, y, parameter_iterable)\u001b[0m\n\u001b[1;32m    572\u001b[0m                                     \u001b[0mself\u001b[0m\u001b[0;34m.\u001b[0m\u001b[0mfit_params\u001b[0m\u001b[0;34m,\u001b[0m \u001b[0mreturn_parameters\u001b[0m\u001b[0;34m=\u001b[0m\u001b[0;32mTrue\u001b[0m\u001b[0;34m,\u001b[0m\u001b[0;34m\u001b[0m\u001b[0m\n\u001b[1;32m    573\u001b[0m                                     error_score=self.error_score)\n\u001b[0;32m--> 574\u001b[0;31m                 \u001b[0;32mfor\u001b[0m \u001b[0mparameters\u001b[0m \u001b[0;32min\u001b[0m \u001b[0mparameter_iterable\u001b[0m\u001b[0;34m\u001b[0m\u001b[0m\n\u001b[0m\u001b[1;32m    575\u001b[0m                 for train, test in cv)\n\u001b[1;32m    576\u001b[0m \u001b[0;34m\u001b[0m\u001b[0m\n",
      "\u001b[0;32m~/.local/share/virtualenvs/ml_projects-PtpjDyvs/lib/python3.6/site-packages/sklearn/externals/joblib/parallel.py\u001b[0m in \u001b[0;36m__call__\u001b[0;34m(self, iterable)\u001b[0m\n\u001b[1;32m    787\u001b[0m                 \u001b[0;31m# consumption.\u001b[0m\u001b[0;34m\u001b[0m\u001b[0;34m\u001b[0m\u001b[0m\n\u001b[1;32m    788\u001b[0m                 \u001b[0mself\u001b[0m\u001b[0;34m.\u001b[0m\u001b[0m_iterating\u001b[0m \u001b[0;34m=\u001b[0m \u001b[0;32mFalse\u001b[0m\u001b[0;34m\u001b[0m\u001b[0m\n\u001b[0;32m--> 789\u001b[0;31m             \u001b[0mself\u001b[0m\u001b[0;34m.\u001b[0m\u001b[0mretrieve\u001b[0m\u001b[0;34m(\u001b[0m\u001b[0;34m)\u001b[0m\u001b[0;34m\u001b[0m\u001b[0m\n\u001b[0m\u001b[1;32m    790\u001b[0m             \u001b[0;31m# Make sure that we get a last message telling us we are done\u001b[0m\u001b[0;34m\u001b[0m\u001b[0;34m\u001b[0m\u001b[0m\n\u001b[1;32m    791\u001b[0m             \u001b[0melapsed_time\u001b[0m \u001b[0;34m=\u001b[0m \u001b[0mtime\u001b[0m\u001b[0;34m.\u001b[0m\u001b[0mtime\u001b[0m\u001b[0;34m(\u001b[0m\u001b[0;34m)\u001b[0m \u001b[0;34m-\u001b[0m \u001b[0mself\u001b[0m\u001b[0;34m.\u001b[0m\u001b[0m_start_time\u001b[0m\u001b[0;34m\u001b[0m\u001b[0m\n",
      "\u001b[0;32m~/.local/share/virtualenvs/ml_projects-PtpjDyvs/lib/python3.6/site-packages/sklearn/externals/joblib/parallel.py\u001b[0m in \u001b[0;36mretrieve\u001b[0;34m(self)\u001b[0m\n\u001b[1;32m    697\u001b[0m             \u001b[0;32mtry\u001b[0m\u001b[0;34m:\u001b[0m\u001b[0;34m\u001b[0m\u001b[0m\n\u001b[1;32m    698\u001b[0m                 \u001b[0;32mif\u001b[0m \u001b[0mgetattr\u001b[0m\u001b[0;34m(\u001b[0m\u001b[0mself\u001b[0m\u001b[0;34m.\u001b[0m\u001b[0m_backend\u001b[0m\u001b[0;34m,\u001b[0m \u001b[0;34m'supports_timeout'\u001b[0m\u001b[0;34m,\u001b[0m \u001b[0;32mFalse\u001b[0m\u001b[0;34m)\u001b[0m\u001b[0;34m:\u001b[0m\u001b[0;34m\u001b[0m\u001b[0m\n\u001b[0;32m--> 699\u001b[0;31m                     \u001b[0mself\u001b[0m\u001b[0;34m.\u001b[0m\u001b[0m_output\u001b[0m\u001b[0;34m.\u001b[0m\u001b[0mextend\u001b[0m\u001b[0;34m(\u001b[0m\u001b[0mjob\u001b[0m\u001b[0;34m.\u001b[0m\u001b[0mget\u001b[0m\u001b[0;34m(\u001b[0m\u001b[0mtimeout\u001b[0m\u001b[0;34m=\u001b[0m\u001b[0mself\u001b[0m\u001b[0;34m.\u001b[0m\u001b[0mtimeout\u001b[0m\u001b[0;34m)\u001b[0m\u001b[0;34m)\u001b[0m\u001b[0;34m\u001b[0m\u001b[0m\n\u001b[0m\u001b[1;32m    700\u001b[0m                 \u001b[0;32melse\u001b[0m\u001b[0;34m:\u001b[0m\u001b[0;34m\u001b[0m\u001b[0m\n\u001b[1;32m    701\u001b[0m                     \u001b[0mself\u001b[0m\u001b[0;34m.\u001b[0m\u001b[0m_output\u001b[0m\u001b[0;34m.\u001b[0m\u001b[0mextend\u001b[0m\u001b[0;34m(\u001b[0m\u001b[0mjob\u001b[0m\u001b[0;34m.\u001b[0m\u001b[0mget\u001b[0m\u001b[0;34m(\u001b[0m\u001b[0;34m)\u001b[0m\u001b[0;34m)\u001b[0m\u001b[0;34m\u001b[0m\u001b[0m\n",
      "\u001b[0;32m~/anaconda3/lib/python3.6/multiprocessing/pool.py\u001b[0m in \u001b[0;36mget\u001b[0;34m(self, timeout)\u001b[0m\n\u001b[1;32m    636\u001b[0m \u001b[0;34m\u001b[0m\u001b[0m\n\u001b[1;32m    637\u001b[0m     \u001b[0;32mdef\u001b[0m \u001b[0mget\u001b[0m\u001b[0;34m(\u001b[0m\u001b[0mself\u001b[0m\u001b[0;34m,\u001b[0m \u001b[0mtimeout\u001b[0m\u001b[0;34m=\u001b[0m\u001b[0;32mNone\u001b[0m\u001b[0;34m)\u001b[0m\u001b[0;34m:\u001b[0m\u001b[0;34m\u001b[0m\u001b[0m\n\u001b[0;32m--> 638\u001b[0;31m         \u001b[0mself\u001b[0m\u001b[0;34m.\u001b[0m\u001b[0mwait\u001b[0m\u001b[0;34m(\u001b[0m\u001b[0mtimeout\u001b[0m\u001b[0;34m)\u001b[0m\u001b[0;34m\u001b[0m\u001b[0m\n\u001b[0m\u001b[1;32m    639\u001b[0m         \u001b[0;32mif\u001b[0m \u001b[0;32mnot\u001b[0m \u001b[0mself\u001b[0m\u001b[0;34m.\u001b[0m\u001b[0mready\u001b[0m\u001b[0;34m(\u001b[0m\u001b[0;34m)\u001b[0m\u001b[0;34m:\u001b[0m\u001b[0;34m\u001b[0m\u001b[0m\n\u001b[1;32m    640\u001b[0m             \u001b[0;32mraise\u001b[0m \u001b[0mTimeoutError\u001b[0m\u001b[0;34m\u001b[0m\u001b[0m\n",
      "\u001b[0;32m~/anaconda3/lib/python3.6/multiprocessing/pool.py\u001b[0m in \u001b[0;36mwait\u001b[0;34m(self, timeout)\u001b[0m\n\u001b[1;32m    633\u001b[0m \u001b[0;34m\u001b[0m\u001b[0m\n\u001b[1;32m    634\u001b[0m     \u001b[0;32mdef\u001b[0m \u001b[0mwait\u001b[0m\u001b[0;34m(\u001b[0m\u001b[0mself\u001b[0m\u001b[0;34m,\u001b[0m \u001b[0mtimeout\u001b[0m\u001b[0;34m=\u001b[0m\u001b[0;32mNone\u001b[0m\u001b[0;34m)\u001b[0m\u001b[0;34m:\u001b[0m\u001b[0;34m\u001b[0m\u001b[0m\n\u001b[0;32m--> 635\u001b[0;31m         \u001b[0mself\u001b[0m\u001b[0;34m.\u001b[0m\u001b[0m_event\u001b[0m\u001b[0;34m.\u001b[0m\u001b[0mwait\u001b[0m\u001b[0;34m(\u001b[0m\u001b[0mtimeout\u001b[0m\u001b[0;34m)\u001b[0m\u001b[0;34m\u001b[0m\u001b[0m\n\u001b[0m\u001b[1;32m    636\u001b[0m \u001b[0;34m\u001b[0m\u001b[0m\n\u001b[1;32m    637\u001b[0m     \u001b[0;32mdef\u001b[0m \u001b[0mget\u001b[0m\u001b[0;34m(\u001b[0m\u001b[0mself\u001b[0m\u001b[0;34m,\u001b[0m \u001b[0mtimeout\u001b[0m\u001b[0;34m=\u001b[0m\u001b[0;32mNone\u001b[0m\u001b[0;34m)\u001b[0m\u001b[0;34m:\u001b[0m\u001b[0;34m\u001b[0m\u001b[0m\n",
      "\u001b[0;32m~/anaconda3/lib/python3.6/threading.py\u001b[0m in \u001b[0;36mwait\u001b[0;34m(self, timeout)\u001b[0m\n\u001b[1;32m    549\u001b[0m             \u001b[0msignaled\u001b[0m \u001b[0;34m=\u001b[0m \u001b[0mself\u001b[0m\u001b[0;34m.\u001b[0m\u001b[0m_flag\u001b[0m\u001b[0;34m\u001b[0m\u001b[0m\n\u001b[1;32m    550\u001b[0m             \u001b[0;32mif\u001b[0m \u001b[0;32mnot\u001b[0m \u001b[0msignaled\u001b[0m\u001b[0;34m:\u001b[0m\u001b[0;34m\u001b[0m\u001b[0m\n\u001b[0;32m--> 551\u001b[0;31m                 \u001b[0msignaled\u001b[0m \u001b[0;34m=\u001b[0m \u001b[0mself\u001b[0m\u001b[0;34m.\u001b[0m\u001b[0m_cond\u001b[0m\u001b[0;34m.\u001b[0m\u001b[0mwait\u001b[0m\u001b[0;34m(\u001b[0m\u001b[0mtimeout\u001b[0m\u001b[0;34m)\u001b[0m\u001b[0;34m\u001b[0m\u001b[0m\n\u001b[0m\u001b[1;32m    552\u001b[0m             \u001b[0;32mreturn\u001b[0m \u001b[0msignaled\u001b[0m\u001b[0;34m\u001b[0m\u001b[0m\n\u001b[1;32m    553\u001b[0m \u001b[0;34m\u001b[0m\u001b[0m\n",
      "\u001b[0;32m~/anaconda3/lib/python3.6/threading.py\u001b[0m in \u001b[0;36mwait\u001b[0;34m(self, timeout)\u001b[0m\n\u001b[1;32m    293\u001b[0m         \u001b[0;32mtry\u001b[0m\u001b[0;34m:\u001b[0m    \u001b[0;31m# restore state no matter what (e.g., KeyboardInterrupt)\u001b[0m\u001b[0;34m\u001b[0m\u001b[0m\n\u001b[1;32m    294\u001b[0m             \u001b[0;32mif\u001b[0m \u001b[0mtimeout\u001b[0m \u001b[0;32mis\u001b[0m \u001b[0;32mNone\u001b[0m\u001b[0;34m:\u001b[0m\u001b[0;34m\u001b[0m\u001b[0m\n\u001b[0;32m--> 295\u001b[0;31m                 \u001b[0mwaiter\u001b[0m\u001b[0;34m.\u001b[0m\u001b[0macquire\u001b[0m\u001b[0;34m(\u001b[0m\u001b[0;34m)\u001b[0m\u001b[0;34m\u001b[0m\u001b[0m\n\u001b[0m\u001b[1;32m    296\u001b[0m                 \u001b[0mgotit\u001b[0m \u001b[0;34m=\u001b[0m \u001b[0;32mTrue\u001b[0m\u001b[0;34m\u001b[0m\u001b[0m\n\u001b[1;32m    297\u001b[0m             \u001b[0;32melse\u001b[0m\u001b[0;34m:\u001b[0m\u001b[0;34m\u001b[0m\u001b[0m\n",
      "\u001b[0;31mKeyboardInterrupt\u001b[0m: "
     ]
    }
   ],
   "source": [
    "rnn_clf = RadiusNeighborsClassifier()\n",
    "param_grid = {\n",
    "    \"radius\": [x for x in range(10,100,10)]\n",
    " }\n",
    "               \n",
    "rnn_clf_grid = GridSearchCV(estimator=rnn_clf, \n",
    "                        param_grid=param_grid,\n",
    "                        n_jobs=-1, \n",
    "                        scoring='accuracy',\n",
    "                        verbose = 10)\n",
    "\n",
    "rnn_scores = cross_val_score(rnn_clf_grid,\n",
    "                          X_train,\n",
    "                          y_train,\n",
    "                          cv = 3,\n",
    "                          scoring = \"accuracy\",\n",
    "                          verbose = 10\n",
    "                         )"
   ]
  },
  {
   "cell_type": "code",
   "execution_count": null,
   "metadata": {},
   "outputs": [],
   "source": [
    "print(\"Radial Neighbors Classifer scores: {}\\n\\\n",
    "Radial Neighbors Classifer mean: {}\\n\\\n",
    "Radial Neighbors Classifer devation: {}\".format(\n",
    "                np.round(rnn_scores, decimals = 3),\n",
    "                np.round(np.mean(rnn_scores), decimals = 3),\n",
    "                np.round(np.std(rnn_scores), decimals = 3)\n",
    "    ))"
   ]
  },
  {
   "cell_type": "code",
   "execution_count": 4,
   "metadata": {},
   "outputs": [],
   "source": [
    "knn_clf = KNeighborsClassifier()"
   ]
  },
  {
   "cell_type": "code",
   "execution_count": null,
   "metadata": {},
   "outputs": [
    {
     "name": "stdout",
     "output_type": "stream",
     "text": [
      "[CV]  ................................................................\n"
     ]
    }
   ],
   "source": [
    "\n",
    "\n",
    "knn_scores = cross_val_score(knn_clf,\n",
    "                          X_train,\n",
    "                          y_train,\n",
    "                          cv = 3,\n",
    "                          scoring = \"accuracy\",\n",
    "                          verbose = 10\n",
    "                         )"
   ]
  },
  {
   "cell_type": "code",
   "execution_count": 77,
   "metadata": {},
   "outputs": [
    {
     "name": "stdout",
     "output_type": "stream",
     "text": [
      "K Neighbors Classifer scores: [0.966 0.966 0.967]\n",
      "K Neighbors Classifer mean: 0.966\n",
      "K Neighbors Classifer devation: 0.0\n"
     ]
    }
   ],
   "source": [
    "print(\"K Neighbors Classifer scores: {}\\n\\\n",
    "K Neighbors Classifer mean: {}\\n\\\n",
    "K Neighbors Classifer devation: {}\".format(\n",
    "                np.round(knn_scores, decimals = 3),\n",
    "                np.round(np.mean(knn_scores), decimals = 3),\n",
    "                np.round(np.std(knn_scores), decimals = 3)\n",
    "    ))"
   ]
  },
  {
   "cell_type": "markdown",
   "metadata": {},
   "source": [
    "oooooh so close, i think we have a winner so far though...."
   ]
  },
  {
   "cell_type": "code",
   "execution_count": 12,
   "metadata": {},
   "outputs": [
    {
     "name": "stdout",
     "output_type": "stream",
     "text": [
      "Fitting 3 folds for each of 10 candidates, totalling 30 fits\n",
      "[CV] weights=distance, n_neighbors=3, leaf_size=36 ...................\n",
      "[CV] weights=distance, n_neighbors=3, leaf_size=36 ...................\n",
      "[CV]  weights=distance, n_neighbors=3, leaf_size=36, score=0.968018 - 7.7min\n",
      "[CV] weights=distance, n_neighbors=3, leaf_size=36 ...................\n"
     ]
    },
    {
     "name": "stderr",
     "output_type": "stream",
     "text": [
      "[Parallel(n_jobs=2)]: Done   1 tasks      | elapsed:  7.7min\n"
     ]
    },
    {
     "name": "stdout",
     "output_type": "stream",
     "text": [
      "[CV]  weights=distance, n_neighbors=3, leaf_size=36, score=0.966515 - 7.7min\n",
      "[CV] weights=distance, n_neighbors=3, leaf_size=32 ...................\n",
      "[CV]  weights=distance, n_neighbors=3, leaf_size=36, score=0.965313 - 7.7min\n",
      "[CV] weights=distance, n_neighbors=3, leaf_size=32 ...................\n",
      "[CV]  weights=distance, n_neighbors=3, leaf_size=32, score=0.966515 - 7.7min\n",
      "[CV] weights=distance, n_neighbors=3, leaf_size=32 ...................\n"
     ]
    },
    {
     "name": "stderr",
     "output_type": "stream",
     "text": [
      "[Parallel(n_jobs=2)]: Done   4 tasks      | elapsed: 15.4min\n"
     ]
    },
    {
     "name": "stdout",
     "output_type": "stream",
     "text": [
      "[CV]  weights=distance, n_neighbors=3, leaf_size=32, score=0.965313 - 7.7min\n",
      "[CV] weights=distance, n_neighbors=5, leaf_size=26 ...................\n",
      "[CV]  weights=distance, n_neighbors=3, leaf_size=32, score=0.968018 - 7.7min\n",
      "[CV] weights=distance, n_neighbors=5, leaf_size=26 ...................\n",
      "[CV]  weights=distance, n_neighbors=5, leaf_size=26, score=0.966185 - 9.6min\n",
      "[CV] weights=distance, n_neighbors=5, leaf_size=26 ...................\n",
      "[CV]  weights=distance, n_neighbors=5, leaf_size=26, score=0.968282 - 9.6min\n",
      "[CV] weights=uniform, n_neighbors=2, leaf_size=23 ....................\n",
      "[CV]  weights=distance, n_neighbors=5, leaf_size=26, score=0.965181 - 9.6min\n",
      "[CV] weights=uniform, n_neighbors=2, leaf_size=23 ....................\n"
     ]
    },
    {
     "name": "stderr",
     "output_type": "stream",
     "text": [
      "[Parallel(n_jobs=2)]: Done   9 tasks      | elapsed: 42.4min\n"
     ]
    },
    {
     "name": "stdout",
     "output_type": "stream",
     "text": [
      "[CV]  weights=uniform, n_neighbors=2, leaf_size=23, score=0.957880 - 9.6min\n",
      "[CV] weights=uniform, n_neighbors=2, leaf_size=23 ....................\n",
      "[CV]  weights=uniform, n_neighbors=2, leaf_size=23, score=0.958589 - 9.6min\n",
      "[CV] weights=uniform, n_neighbors=13, leaf_size=31 ...................\n",
      "[CV]  weights=uniform, n_neighbors=2, leaf_size=23, score=0.957069 - 9.6min\n",
      "[CV] weights=uniform, n_neighbors=13, leaf_size=31 ...................\n",
      "[CV]  weights=uniform, n_neighbors=13, leaf_size=31, score=0.955837 - 8.6min\n",
      "[CV] weights=uniform, n_neighbors=13, leaf_size=31 ...................\n",
      "[CV]  weights=uniform, n_neighbors=13, leaf_size=31, score=0.959314 - 8.6min\n",
      "[CV] weights=uniform, n_neighbors=1, leaf_size=25 ....................\n"
     ]
    },
    {
     "name": "stderr",
     "output_type": "stream",
     "text": [
      "[Parallel(n_jobs=2)]: Done  14 tasks      | elapsed: 60.6min\n"
     ]
    },
    {
     "name": "stdout",
     "output_type": "stream",
     "text": [
      "[CV]  weights=uniform, n_neighbors=13, leaf_size=31, score=0.958520 - 8.2min\n",
      "[CV] weights=uniform, n_neighbors=1, leaf_size=25 ....................\n",
      "[CV]  weights=uniform, n_neighbors=1, leaf_size=25, score=0.965329 -10.1min\n",
      "[CV] weights=uniform, n_neighbors=1, leaf_size=25 ....................\n",
      "[CV]  weights=uniform, n_neighbors=1, leaf_size=25, score=0.965381 - 9.6min\n",
      "[CV] weights=uniform, n_neighbors=11, leaf_size=29 ...................\n",
      "[CV]  weights=uniform, n_neighbors=1, leaf_size=25, score=0.965247 - 9.6min\n",
      "[CV] weights=uniform, n_neighbors=11, leaf_size=29 ...................\n",
      "[CV]  weights=uniform, n_neighbors=11, leaf_size=29, score=0.957551 - 9.6min\n",
      "[CV] weights=uniform, n_neighbors=11, leaf_size=29 ...................\n",
      "[CV]  weights=uniform, n_neighbors=11, leaf_size=29, score=0.960963 - 9.6min\n",
      "[CV] weights=uniform, n_neighbors=9, leaf_size=30 ....................\n",
      "[CV]  weights=uniform, n_neighbors=9, leaf_size=30, score=0.959001 - 7.7min\n",
      "[CV] weights=uniform, n_neighbors=9, leaf_size=30 ....................\n"
     ]
    },
    {
     "name": "stderr",
     "output_type": "stream",
     "text": [
      "[Parallel(n_jobs=2)]: Done  21 tasks      | elapsed: 97.7min\n"
     ]
    },
    {
     "name": "stdout",
     "output_type": "stream",
     "text": [
      "[CV]  weights=uniform, n_neighbors=11, leaf_size=29, score=0.960367 - 9.7min\n",
      "[CV] weights=uniform, n_neighbors=9, leaf_size=30 ....................\n",
      "[CV]  weights=uniform, n_neighbors=9, leaf_size=30, score=0.962348 - 7.8min\n",
      "[CV] weights=distance, n_neighbors=9, leaf_size=23 ...................\n",
      "[CV]  weights=uniform, n_neighbors=9, leaf_size=30, score=0.960960 - 7.8min\n",
      "[CV] weights=distance, n_neighbors=9, leaf_size=23 ...................\n",
      "[CV]  weights=distance, n_neighbors=9, leaf_size=23, score=0.960583 - 9.7min\n",
      "[CV] weights=distance, n_neighbors=9, leaf_size=23 ...................\n",
      "[CV]  weights=distance, n_neighbors=9, leaf_size=23, score=0.963864 - 9.7min\n",
      "[CV] weights=uniform, n_neighbors=8, leaf_size=38 ....................\n",
      "[CV]  weights=uniform, n_neighbors=8, leaf_size=38, score=0.961110 - 7.7min\n",
      "[CV] weights=uniform, n_neighbors=8, leaf_size=38 ....................\n",
      "[CV]  weights=distance, n_neighbors=9, leaf_size=23, score=0.962147 - 9.7min\n",
      "[CV] weights=uniform, n_neighbors=8, leaf_size=38 ....................\n",
      "[CV]  weights=uniform, n_neighbors=8, leaf_size=38, score=0.962941 - 7.7min\n",
      "[CV]  weights=uniform, n_neighbors=8, leaf_size=38, score=0.961422 - 7.7min\n"
     ]
    },
    {
     "name": "stderr",
     "output_type": "stream",
     "text": [
      "[Parallel(n_jobs=2)]: Done  30 out of  30 | elapsed: 132.5min finished\n"
     ]
    },
    {
     "data": {
      "text/plain": [
       "RandomizedSearchCV(cv=3, error_score='raise',\n",
       "          estimator=KNeighborsClassifier(algorithm='auto', leaf_size=30, metric='minkowski',\n",
       "           metric_params=None, n_jobs=1, n_neighbors=5, p=2,\n",
       "           weights='uniform'),\n",
       "          fit_params={}, iid=True, n_iter=10, n_jobs=2,\n",
       "          param_distributions={'n_neighbors': range(1, 15), 'weights': ['uniform', 'distance'], 'leaf_size': range(20, 40)},\n",
       "          pre_dispatch='2*n_jobs', random_state=42, refit=True,\n",
       "          scoring='accuracy', verbose=10)"
      ]
     },
     "execution_count": 12,
     "metadata": {},
     "output_type": "execute_result"
    }
   ],
   "source": [
    "k_range = range(1, 15)\n",
    "weight_options = ['uniform', 'distance']\n",
    "leaf_range = range(20,40)\n",
    "param_dist = {\"n_neighbors\" : k_range,\n",
    "              \"weights\" : weight_options,\n",
    "              \"leaf_size\": leaf_range\n",
    "             }\n",
    "\n",
    "knn_rand = RandomizedSearchCV(knn_clf,\n",
    "                          param_dist,\n",
    "                          cv=3,\n",
    "                          scoring='accuracy',\n",
    "                          n_iter=10,\n",
    "                          random_state=seed,\n",
    "                          n_jobs = 2,\n",
    "                          verbose = 10)\n",
    "\n",
    "knn_rand.fit(X_train, y_train)"
   ]
  },
  {
   "cell_type": "code",
   "execution_count": 13,
   "metadata": {},
   "outputs": [
    {
     "name": "stdout",
     "output_type": "stream",
     "text": [
      "Accuracy: 0.9666153846153847\n",
      "Best params: {'weights': 'distance', 'n_neighbors': 3, 'leaf_size': 36} \n",
      "Best estimator KNeighborsClassifier(algorithm='auto', leaf_size=36, metric='minkowski',\n",
      "           metric_params=None, n_jobs=1, n_neighbors=3, p=2,\n",
      "           weights='distance'):\n"
     ]
    }
   ],
   "source": [
    "print(\"Accuracy: {}\\n\\\n",
    "Best params: {} \\n\\\n",
    "Best estimator {}:\".format(knn_rand.best_score_,\n",
    "                           knn_rand.best_params_,\n",
    "                           knn_rand.best_estimator_))\n",
    "      "
   ]
  },
  {
   "cell_type": "markdown",
   "metadata": {},
   "source": [
    "NICE, just over the 97%\n",
    "\n",
    "more tuning with gridsearch might get us a bit further..."
   ]
  },
  {
   "cell_type": "code",
   "execution_count": 14,
   "metadata": {},
   "outputs": [
    {
     "name": "stdout",
     "output_type": "stream",
     "text": [
      "Fitting 3 folds for each of 9 candidates, totalling 27 fits\n",
      "[CV] leaf_size=25, n_neighbors=3, weights=distance ...................\n",
      "[CV] leaf_size=25, n_neighbors=3, weights=distance ...................\n",
      "[CV]  leaf_size=25, n_neighbors=3, weights=distance, score=0.966515 - 9.7min\n",
      "[CV] leaf_size=25, n_neighbors=3, weights=distance ...................\n",
      "[CV]  leaf_size=25, n_neighbors=3, weights=distance, score=0.968018 - 9.7min\n"
     ]
    },
    {
     "name": "stderr",
     "output_type": "stream",
     "text": [
      "[Parallel(n_jobs=2)]: Done   1 tasks      | elapsed:  9.7min\n"
     ]
    },
    {
     "name": "stdout",
     "output_type": "stream",
     "text": [
      "[CV] leaf_size=25, n_neighbors=4, weights=distance ...................\n",
      "[CV]  leaf_size=25, n_neighbors=3, weights=distance, score=0.965313 - 9.7min\n",
      "[CV] leaf_size=25, n_neighbors=4, weights=distance ...................\n",
      "[CV]  leaf_size=25, n_neighbors=4, weights=distance, score=0.967306 - 9.7min\n",
      "[CV] leaf_size=25, n_neighbors=4, weights=distance ...................\n"
     ]
    },
    {
     "name": "stderr",
     "output_type": "stream",
     "text": [
      "[Parallel(n_jobs=2)]: Done   4 tasks      | elapsed: 19.4min\n"
     ]
    },
    {
     "name": "stdout",
     "output_type": "stream",
     "text": [
      "[CV]  leaf_size=25, n_neighbors=4, weights=distance, score=0.966170 - 9.7min\n",
      "[CV] leaf_size=25, n_neighbors=5, weights=distance ...................\n",
      "[CV]  leaf_size=25, n_neighbors=4, weights=distance, score=0.968546 - 9.7min\n",
      "[CV] leaf_size=25, n_neighbors=5, weights=distance ...................\n",
      "[CV]  leaf_size=25, n_neighbors=5, weights=distance, score=0.966185 - 9.7min\n",
      "[CV] leaf_size=25, n_neighbors=5, weights=distance ...................\n",
      "[CV]  leaf_size=25, n_neighbors=5, weights=distance, score=0.968282 - 9.8min\n",
      "[CV] leaf_size=30, n_neighbors=3, weights=distance ...................\n",
      "[CV]  leaf_size=30, n_neighbors=3, weights=distance, score=0.966515 - 7.7min\n",
      "[CV] leaf_size=30, n_neighbors=3, weights=distance ...................\n"
     ]
    },
    {
     "name": "stderr",
     "output_type": "stream",
     "text": [
      "[Parallel(n_jobs=2)]: Done   9 tasks      | elapsed: 46.5min\n"
     ]
    },
    {
     "name": "stdout",
     "output_type": "stream",
     "text": [
      "[CV]  leaf_size=25, n_neighbors=5, weights=distance, score=0.965181 - 9.7min\n",
      "[CV] leaf_size=30, n_neighbors=3, weights=distance ...................\n",
      "[CV]  leaf_size=30, n_neighbors=3, weights=distance, score=0.968018 - 7.8min\n",
      "[CV] leaf_size=30, n_neighbors=4, weights=distance ...................\n",
      "[CV]  leaf_size=30, n_neighbors=3, weights=distance, score=0.965313 - 7.8min\n",
      "[CV] leaf_size=30, n_neighbors=4, weights=distance ...................\n",
      "[CV]  leaf_size=30, n_neighbors=4, weights=distance, score=0.967306 - 7.7min\n",
      "[CV] leaf_size=30, n_neighbors=4, weights=distance ...................\n",
      "[CV]  leaf_size=30, n_neighbors=4, weights=distance, score=0.968546 - 7.7min\n",
      "[CV] leaf_size=30, n_neighbors=5, weights=distance ...................\n"
     ]
    },
    {
     "name": "stderr",
     "output_type": "stream",
     "text": [
      "[Parallel(n_jobs=2)]: Done  14 tasks      | elapsed: 64.0min\n"
     ]
    },
    {
     "name": "stdout",
     "output_type": "stream",
     "text": [
      "[CV]  leaf_size=30, n_neighbors=4, weights=distance, score=0.966170 - 7.7min\n",
      "[CV] leaf_size=30, n_neighbors=5, weights=distance ...................\n",
      "[CV]  leaf_size=30, n_neighbors=5, weights=distance, score=0.966185 - 7.8min\n",
      "[CV] leaf_size=30, n_neighbors=5, weights=distance ...................\n",
      "[CV]  leaf_size=30, n_neighbors=5, weights=distance, score=0.968282 - 7.8min\n",
      "[CV] leaf_size=35, n_neighbors=3, weights=distance ...................\n",
      "[CV]  leaf_size=30, n_neighbors=5, weights=distance, score=0.965181 - 7.8min\n",
      "[CV] leaf_size=35, n_neighbors=3, weights=distance ...................\n",
      "[CV]  leaf_size=35, n_neighbors=3, weights=distance, score=0.966515 - 7.7min\n",
      "[CV] leaf_size=35, n_neighbors=3, weights=distance ...................\n",
      "[CV]  leaf_size=35, n_neighbors=3, weights=distance, score=0.968018 - 7.8min\n",
      "[CV] leaf_size=35, n_neighbors=4, weights=distance ...................\n",
      "[CV]  leaf_size=35, n_neighbors=3, weights=distance, score=0.965313 - 7.8min\n",
      "[CV] leaf_size=35, n_neighbors=4, weights=distance ...................\n"
     ]
    },
    {
     "name": "stderr",
     "output_type": "stream",
     "text": [
      "[Parallel(n_jobs=2)]: Done  21 tasks      | elapsed: 93.0min\n"
     ]
    },
    {
     "name": "stdout",
     "output_type": "stream",
     "text": [
      "[CV]  leaf_size=35, n_neighbors=4, weights=distance, score=0.967306 - 7.8min\n",
      "[CV] leaf_size=35, n_neighbors=4, weights=distance ...................\n",
      "[CV]  leaf_size=35, n_neighbors=4, weights=distance, score=0.968546 - 7.7min\n",
      "[CV] leaf_size=35, n_neighbors=5, weights=distance ...................\n",
      "[CV]  leaf_size=35, n_neighbors=4, weights=distance, score=0.966170 - 7.8min\n",
      "[CV] leaf_size=35, n_neighbors=5, weights=distance ...................\n",
      "[CV]  leaf_size=35, n_neighbors=5, weights=distance, score=0.966185 - 7.8min\n",
      "[CV] leaf_size=35, n_neighbors=5, weights=distance ...................\n",
      "[CV]  leaf_size=35, n_neighbors=5, weights=distance, score=0.968282 - 7.8min\n",
      "[CV]  leaf_size=35, n_neighbors=5, weights=distance, score=0.965181 - 7.4min\n"
     ]
    },
    {
     "name": "stderr",
     "output_type": "stream",
     "text": [
      "[Parallel(n_jobs=2)]: Done  27 out of  27 | elapsed: 115.9min remaining:    0.0s\n",
      "[Parallel(n_jobs=2)]: Done  27 out of  27 | elapsed: 115.9min finished\n"
     ]
    },
    {
     "data": {
      "text/plain": [
       "GridSearchCV(cv=3, error_score='raise',\n",
       "       estimator=KNeighborsClassifier(algorithm='auto', leaf_size=30, metric='minkowski',\n",
       "           metric_params=None, n_jobs=1, n_neighbors=5, p=2,\n",
       "           weights='uniform'),\n",
       "       fit_params={}, iid=True, n_jobs=2,\n",
       "       param_grid={'n_neighbors': [3, 4, 5], 'weights': ['distance'], 'leaf_size': [25, 30, 35]},\n",
       "       pre_dispatch='2*n_jobs', refit=True, scoring='accuracy', verbose=10)"
      ]
     },
     "execution_count": 14,
     "metadata": {},
     "output_type": "execute_result"
    }
   ],
   "source": [
    "param_dist = {\"n_neighbors\" : [x for x in range(3, 6,1)],\n",
    "              \"weights\" : [\"distance\"],\n",
    "              \"leaf_size\" : [x for x in range(25,40,5)]\n",
    "             }\n",
    "\n",
    "knn_grid = GridSearchCV(knn_clf,\n",
    "                          param_dist,\n",
    "                          cv=3,\n",
    "                          scoring='accuracy',\n",
    "                          n_jobs  = 2,\n",
    "                          verbose = 10)\n",
    "\n",
    "knn_grid.fit(X_train, y_train)"
   ]
  },
  {
   "cell_type": "code",
   "execution_count": 18,
   "metadata": {},
   "outputs": [
    {
     "name": "stdout",
     "output_type": "stream",
     "text": [
      "Accuracy: 0.9673406593406594\n",
      "Best params: {'leaf_size': 25, 'n_neighbors': 4, 'weights': 'distance'} \n",
      "Best estimator KNeighborsClassifier(algorithm='auto', leaf_size=25, metric='minkowski',\n",
      "           metric_params=None, n_jobs=1, n_neighbors=4, p=2,\n",
      "           weights='distance'):\n"
     ]
    }
   ],
   "source": [
    "print(\"Accuracy: {}\\n\\\n",
    "Best params: {} \\n\\\n",
    "Best estimator {}:\".format(knn_grid.best_score_,\n",
    "                           knn_grid.best_params_,\n",
    "                           knn_grid.best_estimator_))\n",
    "      "
   ]
  },
  {
   "cell_type": "code",
   "execution_count": 20,
   "metadata": {},
   "outputs": [],
   "source": [
    "y_pred = knn_grid.predict(X_test)"
   ]
  },
  {
   "cell_type": "code",
   "execution_count": 21,
   "metadata": {},
   "outputs": [
    {
     "name": "stdout",
     "output_type": "stream",
     "text": [
      "Test set accuracy: 0.973948717948718\n"
     ]
    }
   ],
   "source": [
    "print(\"Test set accuracy: {}\".format(accuracy_score(y_test, y_pred)))"
   ]
  },
  {
   "cell_type": "markdown",
   "metadata": {},
   "source": [
    "ok, that was suprisingly good, lets see what the optimum answer is "
   ]
  },
  {
   "cell_type": "code",
   "execution_count": 4,
   "metadata": {},
   "outputs": [
    {
     "name": "stdout",
     "output_type": "stream",
     "text": [
      "[CV]  ................................................................\n",
      "[CV] ....................... , score=0.9686222808174028, total= 7.8min\n",
      "[CV]  ................................................................\n"
     ]
    },
    {
     "name": "stderr",
     "output_type": "stream",
     "text": [
      "[Parallel(n_jobs=1)]: Done   1 out of   1 | elapsed:  7.8min remaining:    0.0s\n"
     ]
    },
    {
     "name": "stdout",
     "output_type": "stream",
     "text": [
      "[CV] ....................... , score=0.9667040284828905, total= 7.9min\n",
      "[CV]  ................................................................\n"
     ]
    },
    {
     "name": "stderr",
     "output_type": "stream",
     "text": [
      "[Parallel(n_jobs=1)]: Done   2 out of   2 | elapsed: 15.7min remaining:    0.0s\n"
     ]
    },
    {
     "name": "stdout",
     "output_type": "stream",
     "text": [
      "[CV] ....................... , score=0.9692672953900943, total= 8.5min\n"
     ]
    },
    {
     "name": "stderr",
     "output_type": "stream",
     "text": [
      "[Parallel(n_jobs=1)]: Done   3 out of   3 | elapsed: 24.2min remaining:    0.0s\n",
      "[Parallel(n_jobs=1)]: Done   3 out of   3 | elapsed: 24.2min finished\n"
     ]
    }
   ],
   "source": [
    "knn_clf = KNeighborsClassifier(leaf_size = 30, \n",
    "                               n_neighbors = 4, \n",
    "                               weights = \"distance\"\n",
    "                              )\n",
    "\n",
    "knn_scores = cross_val_score(knn_clf,\n",
    "                          X_train,\n",
    "                          y_train,\n",
    "                          cv = 3,\n",
    "                          scoring = \"accuracy\",\n",
    "                          verbose = 10\n",
    "                         )"
   ]
  },
  {
   "cell_type": "code",
   "execution_count": 28,
   "metadata": {},
   "outputs": [
    {
     "name": "stdout",
     "output_type": "stream",
     "text": [
      "CV accuracy: [0.96730604 0.96854599 0.96616988] \\ :\n"
     ]
    }
   ],
   "source": [
    "print(\"CV accuracy: {} \\ :\".format(knn_scores))\n"
   ]
  },
  {
   "cell_type": "code",
   "execution_count": 7,
   "metadata": {},
   "outputs": [
    {
     "data": {
      "text/plain": [
       "KNeighborsClassifier(algorithm='auto', leaf_size=30, metric='minkowski',\n",
       "           metric_params=None, n_jobs=1, n_neighbors=4, p=2,\n",
       "           weights='distance')"
      ]
     },
     "execution_count": 7,
     "metadata": {},
     "output_type": "execute_result"
    }
   ],
   "source": [
    "knn_clf.fit(X_train, y_train)"
   ]
  },
  {
   "cell_type": "code",
   "execution_count": 8,
   "metadata": {},
   "outputs": [],
   "source": [
    "y_pred = knn_clf.predict(X_test)"
   ]
  },
  {
   "cell_type": "code",
   "execution_count": 9,
   "metadata": {},
   "outputs": [
    {
     "name": "stdout",
     "output_type": "stream",
     "text": [
      "Test set accuracy: 0.9707179487179487\n"
     ]
    }
   ],
   "source": [
    "print(\"Test set accuracy: {}\".format(accuracy_score(y_test, y_pred)))"
   ]
  },
  {
   "cell_type": "markdown",
   "metadata": {},
   "source": [
    "Whooo, better that the optimum!"
   ]
  }
 ],
 "metadata": {
  "kernelspec": {
   "display_name": "ml_projects-PtpjDyvs",
   "language": "python",
   "name": "ml_projects-ptpjdyvs"
  },
  "language_info": {
   "codemirror_mode": {
    "name": "ipython",
    "version": 3
   },
   "file_extension": ".py",
   "mimetype": "text/x-python",
   "name": "python",
   "nbconvert_exporter": "python",
   "pygments_lexer": "ipython3",
   "version": "3.6.4"
  }
 },
 "nbformat": 4,
 "nbformat_minor": 2
}
