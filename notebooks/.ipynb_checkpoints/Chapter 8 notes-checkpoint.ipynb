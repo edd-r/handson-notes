{
 "cells": [
  {
   "cell_type": "markdown",
   "metadata": {},
   "source": [
    "# Dimensionality reduction\n",
    "\n",
    "Many features make both training slow and expands the search space making solutions harder to find for machine learning algorithims - curse of dimensionality.\n",
    "\n",
    "Features are often correlated or are unimportant, so can be removed without impacting results on the task. If the feature space can be reduced it can make models less complex and pipelines simpler to run.\n",
    "\n",
    "Some features in a dataset can be constant or highly correlated, if this is true then the data are close to a lower dimensional representation.\n",
    "\n"
   ]
  },
  {
   "cell_type": "code",
   "execution_count": null,
   "metadata": {},
   "outputs": [],
   "source": []
  }
 ],
 "metadata": {
  "kernelspec": {
   "display_name": "ml_projects-PtpjDyvs",
   "language": "python",
   "name": "ml_projects-ptpjdyvs"
  },
  "language_info": {
   "codemirror_mode": {
    "name": "ipython",
    "version": 3
   },
   "file_extension": ".py",
   "mimetype": "text/x-python",
   "name": "python",
   "nbconvert_exporter": "python",
   "pygments_lexer": "ipython3",
   "version": "3.6.4"
  }
 },
 "nbformat": 4,
 "nbformat_minor": 2
}
